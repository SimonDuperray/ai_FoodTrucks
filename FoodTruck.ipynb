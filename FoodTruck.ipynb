{
  "nbformat": 4,
  "nbformat_minor": 0,
  "metadata": {
    "colab": {
      "name": "FoodTruck.ipynb",
      "provenance": [],
      "collapsed_sections": []
    },
    "kernelspec": {
      "name": "python3",
      "display_name": "Python 3"
    }
  },
  "cells": [
    {
      "cell_type": "markdown",
      "metadata": {
        "id": "_CsUW1vsvjPt"
      },
      "source": [
        "<h1>Problem:</h1>\r\n",
        "\r\n",
        "Suppose you are the CEO of a Food Trucks franchise. You are considering different cities to open a new point of sale. The chain already has trucks in different cities and you have data for the city's profits and populations.\r\n",
        "You want to use this data to help you choose the city to open a new point of sale."
      ]
    },
    {
      "cell_type": "code",
      "metadata": {
        "id": "qjqyovkutyMl"
      },
      "source": [
        "import pandas as pd\r\n",
        "import numpy as np\r\n",
        "import matplotlib.pyplot as plt"
      ],
      "execution_count": 405,
      "outputs": []
    },
    {
      "cell_type": "code",
      "metadata": {
        "id": "KPl_IJaGt3r2"
      },
      "source": [
        "dataset = pd.read_csv('univariate_linear_regression_dataset.csv')\r\n",
        "X = dataset.iloc[:, 0].values\r\n",
        "y = dataset.iloc[:, -1].values"
      ],
      "execution_count": 406,
      "outputs": []
    },
    {
      "cell_type": "code",
      "metadata": {
        "colab": {
          "base_uri": "https://localhost:8080/",
          "height": 402
        },
        "id": "GYIQu7uvvaCI",
        "outputId": "8b962ebf-7d9d-4610-94a0-fd2119b7e0aa"
      },
      "source": [
        "dataset"
      ],
      "execution_count": 407,
      "outputs": [
        {
          "output_type": "execute_result",
          "data": {
            "text/html": [
              "<div>\n",
              "<style scoped>\n",
              "    .dataframe tbody tr th:only-of-type {\n",
              "        vertical-align: middle;\n",
              "    }\n",
              "\n",
              "    .dataframe tbody tr th {\n",
              "        vertical-align: top;\n",
              "    }\n",
              "\n",
              "    .dataframe thead th {\n",
              "        text-align: right;\n",
              "    }\n",
              "</style>\n",
              "<table border=\"1\" class=\"dataframe\">\n",
              "  <thead>\n",
              "    <tr style=\"text-align: right;\">\n",
              "      <th></th>\n",
              "      <th>pop</th>\n",
              "      <th>profit</th>\n",
              "    </tr>\n",
              "  </thead>\n",
              "  <tbody>\n",
              "    <tr>\n",
              "      <th>0</th>\n",
              "      <td>6.1101</td>\n",
              "      <td>17.59200</td>\n",
              "    </tr>\n",
              "    <tr>\n",
              "      <th>1</th>\n",
              "      <td>5.5277</td>\n",
              "      <td>9.13020</td>\n",
              "    </tr>\n",
              "    <tr>\n",
              "      <th>2</th>\n",
              "      <td>8.5186</td>\n",
              "      <td>13.66200</td>\n",
              "    </tr>\n",
              "    <tr>\n",
              "      <th>3</th>\n",
              "      <td>7.0032</td>\n",
              "      <td>11.85400</td>\n",
              "    </tr>\n",
              "    <tr>\n",
              "      <th>4</th>\n",
              "      <td>5.8598</td>\n",
              "      <td>6.82330</td>\n",
              "    </tr>\n",
              "    <tr>\n",
              "      <th>...</th>\n",
              "      <td>...</td>\n",
              "      <td>...</td>\n",
              "    </tr>\n",
              "    <tr>\n",
              "      <th>92</th>\n",
              "      <td>5.8707</td>\n",
              "      <td>7.20290</td>\n",
              "    </tr>\n",
              "    <tr>\n",
              "      <th>93</th>\n",
              "      <td>5.3054</td>\n",
              "      <td>1.98690</td>\n",
              "    </tr>\n",
              "    <tr>\n",
              "      <th>94</th>\n",
              "      <td>8.2934</td>\n",
              "      <td>0.14454</td>\n",
              "    </tr>\n",
              "    <tr>\n",
              "      <th>95</th>\n",
              "      <td>13.3940</td>\n",
              "      <td>9.05510</td>\n",
              "    </tr>\n",
              "    <tr>\n",
              "      <th>96</th>\n",
              "      <td>5.4369</td>\n",
              "      <td>0.61705</td>\n",
              "    </tr>\n",
              "  </tbody>\n",
              "</table>\n",
              "<p>97 rows × 2 columns</p>\n",
              "</div>"
            ],
            "text/plain": [
              "        pop    profit\n",
              "0    6.1101  17.59200\n",
              "1    5.5277   9.13020\n",
              "2    8.5186  13.66200\n",
              "3    7.0032  11.85400\n",
              "4    5.8598   6.82330\n",
              "..      ...       ...\n",
              "92   5.8707   7.20290\n",
              "93   5.3054   1.98690\n",
              "94   8.2934   0.14454\n",
              "95  13.3940   9.05510\n",
              "96   5.4369   0.61705\n",
              "\n",
              "[97 rows x 2 columns]"
            ]
          },
          "metadata": {
            "tags": []
          },
          "execution_count": 407
        }
      ]
    },
    {
      "cell_type": "code",
      "metadata": {
        "colab": {
          "base_uri": "https://localhost:8080/",
          "height": 295
        },
        "id": "XIWNAGg8uqA2",
        "outputId": "6915b68c-0d21-47d2-e9f3-ffb10366a6fb"
      },
      "source": [
        "axes = plt.axes()\r\n",
        "axes.grid()\r\n",
        "plt.title(\"Representation\")\r\n",
        "plt.scatter(X, y)\r\n",
        "plt.xlabel(\"Population (10k)\")\r\n",
        "plt.ylabel(\"Profit (10k)\")\r\n",
        "plt.show()"
      ],
      "execution_count": 408,
      "outputs": [
        {
          "output_type": "display_data",
          "data": {
            "image/png": "[encoded data removed]",
            "text/plain": [
              "<Figure size 432x288 with 1 Axes>"
            ]
          },
          "metadata": {
            "tags": [],
            "needs_background": "light"
          }
        }
      ]
    },
    {
      "cell_type": "markdown",
      "metadata": {
        "id": "4nOkAp2TBUOZ"
      },
      "source": [
        "# Linear Regression Model"
      ]
    },
    {
      "cell_type": "markdown",
      "metadata": {
        "id": "agZd77-LyoRx"
      },
      "source": [
        "<h2>Scipy Regression</h2>"
      ]
    },
    {
      "cell_type": "code",
      "metadata": {
        "id": "EsqN6W_jv8H9"
      },
      "source": [
        "from scipy import stats\r\n",
        "slope, intercept, r_value, p_value, std_err = stats.linregress(X, y)"
      ],
      "execution_count": 409,
      "outputs": []
    },
    {
      "cell_type": "code",
      "metadata": {
        "id": "4t9I0jbSwS2d"
      },
      "source": [
        "def predict(X):\r\n",
        "  return slope * X + intercept"
      ],
      "execution_count": 410,
      "outputs": []
    },
    {
      "cell_type": "code",
      "metadata": {
        "colab": {
          "base_uri": "https://localhost:8080/",
          "height": 0
        },
        "id": "ujleaZLawnLR",
        "outputId": "ab45c818-89a9-4738-d705-7b77b96c97c1"
      },
      "source": [
        "axes = plt.axes()\r\n",
        "axes.grid()\r\n",
        "plt.title(\" Scipy Predictions\")\r\n",
        "plt.plot(X, predict(X), c='r')\r\n",
        "plt.scatter(X, y, c='b')\r\n",
        "plt.xlabel('Population (10k)')\r\n",
        "plt.ylabel('Profit (10k)')\r\n",
        "plt.xlim((4.5, 22.5))\r\n",
        "plt.ylim((-5, 25))\r\n",
        "plt.show()"
      ],
      "execution_count": 411,
      "outputs": [
        {
          "output_type": "display_data",
          "data": {
            "image/png": "[encoded data removed]",
            "text/plain": [
              "<Figure size 432x288 with 1 Axes>"
            ]
          },
          "metadata": {
            "tags": [],
            "needs_background": "light"
          }
        }
      ]
    },
    {
      "cell_type": "markdown",
      "metadata": {
        "id": "ll6HSr0jyqx_"
      },
      "source": [
        "<h2>Scikit Learn - Regression</h2>"
      ]
    },
    {
      "cell_type": "code",
      "metadata": {
        "id": "eY1KIoH4ytye"
      },
      "source": [
        "from sklearn.model_selection import train_test_split\r\n",
        "X = X.reshape(X.shape[0], 1)\r\n",
        "y = y.reshape(y.shape[0], 1)\r\n",
        "X_train, X_test, y_train, y_test = train_test_split(X, y, test_size=0.2, random_state=0)"
      ],
      "execution_count": 412,
      "outputs": []
    },
    {
      "cell_type": "code",
      "metadata": {
        "colab": {
          "base_uri": "https://localhost:8080/"
        },
        "id": "O-F5wI0i2uRG",
        "outputId": "6fb2cd4b-c0ce-4f31-8e50-39173c896504"
      },
      "source": [
        "from sklearn.linear_model import LinearRegression\r\n",
        "regressor = LinearRegression()\r\n",
        "regressor.fit(X_train, y_train)"
      ],
      "execution_count": 413,
      "outputs": [
        {
          "output_type": "execute_result",
          "data": {
            "text/plain": [
              "LinearRegression(copy_X=True, fit_intercept=True, n_jobs=None, normalize=False)"
            ]
          },
          "metadata": {
            "tags": []
          },
          "execution_count": 413
        }
      ]
    },
    {
      "cell_type": "code",
      "metadata": {
        "id": "nf6U3rGK22BU"
      },
      "source": [
        "y_pred = regressor.predict(X_test)"
      ],
      "execution_count": 414,
      "outputs": []
    },
    {
      "cell_type": "code",
      "metadata": {
        "colab": {
          "base_uri": "https://localhost:8080/",
          "height": 0
        },
        "id": "aO1q_AgSzm_U",
        "outputId": "63fab2bd-85f4-4fd7-c510-b8e6594fa67a"
      },
      "source": [
        "axes = plt.axes()\r\n",
        "axes.grid()\r\n",
        "plt.scatter(X_train, y_train, color='blue')\r\n",
        "plt.plot(X_train, regressor.predict(X_train), color='red')\r\n",
        "plt.title(\"SKL Regression - Train set\")\r\n",
        "plt.xlabel(\"Population (10k)\")\r\n",
        "plt.ylabel('Profit (10k)')\r\n",
        "plt.show()"
      ],
      "execution_count": 415,
      "outputs": [
        {
          "output_type": "display_data",
          "data": {
            "image/png": "[encoded data removed]",
            "text/plain": [
              "<Figure size 432x288 with 1 Axes>"
            ]
          },
          "metadata": {
            "tags": [],
            "needs_background": "light"
          }
        }
      ]
    },
    {
      "cell_type": "code",
      "metadata": {
        "colab": {
          "base_uri": "https://localhost:8080/",
          "height": 0
        },
        "id": "m_49fJBr3Poz",
        "outputId": "fdfa9c93-c182-4980-845d-83512e1f5446"
      },
      "source": [
        "axes = plt.axes()\r\n",
        "axes.grid()\r\n",
        "plt.scatter(X_test, y_test, color='blue')\r\n",
        "plt.plot(X_test, y_pred, color='red')\r\n",
        "plt.title(\"SKL Regression - Test set\")\r\n",
        "plt.xlabel(\"Population (10k)\")\r\n",
        "plt.ylabel('Profit (10k)')\r\n",
        "plt.show()"
      ],
      "execution_count": 416,
      "outputs": [
        {
          "output_type": "display_data",
          "data": {
            "image/png": "[encoded data removed]",
            "text/plain": [
              "<Figure size 432x288 with 1 Axes>"
            ]
          },
          "metadata": {
            "tags": [],
            "needs_background": "light"
          }
        }
      ]
    },
    {
      "cell_type": "markdown",
      "metadata": {
        "id": "VWFV3ptX0mrr"
      },
      "source": [
        "<h2>Compare Scipy and SKLearn</h2>"
      ]
    },
    {
      "cell_type": "markdown",
      "metadata": {
        "id": "j9J14SOb5Jzw"
      },
      "source": [
        "<h3>Plots</h3>"
      ]
    },
    {
      "cell_type": "code",
      "metadata": {
        "colab": {
          "base_uri": "https://localhost:8080/",
          "height": 0
        },
        "id": "U3pHTLe30mKF",
        "outputId": "cbed8d2f-4ef9-4a6a-e547-07988e81fa68"
      },
      "source": [
        "axes = plt.axes()\r\n",
        "axes.grid()\r\n",
        "plt.title('Scipy vs Sklearn results')\r\n",
        "plt.plot(X_test, y_pred, c='b', label=\"sklearn\")\r\n",
        "plt.plot(X_test, predict(X_test), c='r', label=\"scipy\")\r\n",
        "plt.xlabel(\"Population (10k)\")\r\n",
        "plt.ylabel('Profit (10k)')\r\n",
        "plt.legend(loc=\"lower right\")\r\n",
        "plt.show()"
      ],
      "execution_count": 417,
      "outputs": [
        {
          "output_type": "display_data",
          "data": {
            "image/png": "[encoded data removed]",
            "text/plain": [
              "<Figure size 432x288 with 1 Axes>"
            ]
          },
          "metadata": {
            "tags": [],
            "needs_background": "light"
          }
        }
      ]
    },
    {
      "cell_type": "markdown",
      "metadata": {
        "id": "2wGtVkzx5MV6"
      },
      "source": [
        "<h3>R2 Scores</h3>"
      ]
    },
    {
      "cell_type": "code",
      "metadata": {
        "colab": {
          "base_uri": "https://localhost:8080/"
        },
        "id": "G6wA04651DjO",
        "outputId": "4e1a6467-e0f8-4891-b804-eb3cee9bc12e"
      },
      "source": [
        "from sklearn.metrics import r2_score\r\n",
        "print(\"Scipy: \"+str(r_value))\r\n",
        "print(\"SKLearn: \"+str(r2_score(y_train, regressor.predict(X_train))))"
      ],
      "execution_count": 418,
      "outputs": [
        {
          "output_type": "stream",
          "text": [
            "Scipy: 0.8378732325263409\n",
            "SKLearn: 0.7221737943890659\n"
          ],
          "name": "stdout"
        }
      ]
    },
    {
      "cell_type": "markdown",
      "metadata": {
        "id": "lG-53Xq15OKu"
      },
      "source": [
        "<h3>Random Predictions</h3>"
      ]
    },
    {
      "cell_type": "code",
      "metadata": {
        "colab": {
          "base_uri": "https://localhost:8080/"
        },
        "id": "wkg4Y_Yf5Q7a",
        "outputId": "53b2a079-0b93-416e-e9d8-95835e923db6"
      },
      "source": [
        "angers = np.array([15])\r\n",
        "angers = angers.reshape(angers.shape[0], 1)\r\n",
        "print(\"150K (Angers)\")\r\n",
        "print(\"Scipy: [\"+str(predict(15))+\"]\")\r\n",
        "print(\"SkLearn: \"+str(regressor.predict(angers).reshape(1,)))\r\n",
        "print(\"Delta = \"+str(np.abs(predict(15)-regressor.predict(angers).reshape(1,))))"
      ],
      "execution_count": 419,
      "outputs": [
        {
          "output_type": "stream",
          "text": [
            "150K (Angers)\n",
            "Scipy: [13.999723784532057]\n",
            "SkLearn: [13.772103]\n",
            "Delta = [0.22762078]\n"
          ],
          "name": "stdout"
        }
      ]
    },
    {
      "cell_type": "code",
      "metadata": {
        "colab": {
          "base_uri": "https://localhost:8080/"
        },
        "id": "oNFM2VIQ6IYS",
        "outputId": "c96a6f8e-f7ad-4857-fe3a-4ae2953b34aa"
      },
      "source": [
        "rennes = np.array([21])\r\n",
        "rennes = rennes.reshape(rennes.shape[0], 1)\r\n",
        "print(\"215K (Rennes)\")\r\n",
        "print(\"Scipy: [\"+str(predict(21))+\"]\")\r\n",
        "print(\"SkLearn: \"+str(regressor.predict(rennes).reshape(1,)))\r\n",
        "print(\"Delta = \"+str(np.abs(predict(21)-regressor.predict(rennes).reshape(1,))))"
      ],
      "execution_count": 420,
      "outputs": [
        {
          "output_type": "stream",
          "text": [
            "215K (Rennes)\n",
            "Scipy: [21.15792564966962]\n",
            "SkLearn: [20.79185634]\n",
            "Delta = [0.36606931]\n"
          ],
          "name": "stdout"
        }
      ]
    },
    {
      "cell_type": "markdown",
      "metadata": {
        "id": "GyCOzwuIBllh"
      },
      "source": [
        "# Support Vector Machine Model"
      ]
    },
    {
      "cell_type": "code",
      "metadata": {
        "id": "XN3iVHbOBnDq"
      },
      "source": [
        "from sklearn.preprocessing import StandardScaler\r\n",
        "sc_X = StandardScaler()\r\n",
        "sc_y = StandardScaler()\r\n",
        "X = sc_X.fit_transform(X)\r\n",
        "y = sc_y.fit_transform(y)"
      ],
      "execution_count": 421,
      "outputs": []
    },
    {
      "cell_type": "code",
      "metadata": {
        "colab": {
          "base_uri": "https://localhost:8080/"
        },
        "id": "J0jSzktGCMZ2",
        "outputId": "08976201-0fb3-4a03-f92a-a4cff1b51d4a"
      },
      "source": [
        "from sklearn.svm import SVR\r\n",
        "regressor = SVR(kernel=\"rbf\")\r\n",
        "regressor.fit(X, y)"
      ],
      "execution_count": 422,
      "outputs": [
        {
          "output_type": "stream",
          "text": [
            "/usr/local/lib/python3.6/dist-packages/sklearn/utils/validation.py:760: DataConversionWarning: A column-vector y was passed when a 1d array was expected. Please change the shape of y to (n_samples, ), for example using ravel().\n",
            "  y = column_or_1d(y, warn=True)\n"
          ],
          "name": "stderr"
        },
        {
          "output_type": "execute_result",
          "data": {
            "text/plain": [
              "SVR(C=1.0, cache_size=200, coef0=0.0, degree=3, epsilon=0.1, gamma='scale',\n",
              "    kernel='rbf', max_iter=-1, shrinking=True, tol=0.001, verbose=False)"
            ]
          },
          "metadata": {
            "tags": []
          },
          "execution_count": 422
        }
      ]
    },
    {
      "cell_type": "markdown",
      "metadata": {
        "id": "E-Xf2MmUEukh"
      },
      "source": [
        "<h2>Observations</h2>"
      ]
    },
    {
      "cell_type": "code",
      "metadata": {
        "colab": {
          "base_uri": "https://localhost:8080/",
          "height": 295
        },
        "id": "4lX0CqL_Csfz",
        "outputId": "626028a8-f9b2-4782-b7b8-2eb2500d87bc"
      },
      "source": [
        "X_grid = np.arange(min(sc_X.inverse_transform(X)), max(sc_X.inverse_transform(X)), 0.1)\r\n",
        "X_grid = X_grid.reshape((len(X_grid), 1))\r\n",
        "plt.scatter(sc_X.inverse_transform(X), sc_y.inverse_transform(y), color = 'red')\r\n",
        "plt.plot(X_grid, sc_y.inverse_transform(regressor.predict(sc_X.transform(X_grid))), color = 'blue')\r\n",
        "plt.title('SVM Model')\r\n",
        "plt.xlabel('Population (10k)')\r\n",
        "plt.ylabel('Profit (10k)')\r\n",
        "plt.show()"
      ],
      "execution_count": 423,
      "outputs": [
        {
          "output_type": "display_data",
          "data": {
            "image/png": "[encoded data removed]",
            "text/plain": [
              "<Figure size 432x288 with 1 Axes>"
            ]
          },
          "metadata": {
            "tags": [],
            "needs_background": "light"
          }
        }
      ]
    },
    {
      "cell_type": "markdown",
      "metadata": {
        "id": "arnckDvuEwuM"
      },
      "source": [
        "<h2>Random Predictions</h2>"
      ]
    },
    {
      "cell_type": "code",
      "metadata": {
        "colab": {
          "base_uri": "https://localhost:8080/"
        },
        "id": "kIdhS-MSEyZD",
        "outputId": "c909b91b-a052-4163-a049-81e6dcb92bac"
      },
      "source": [
        "print('150K (Angers)')\r\n",
        "print(\"Predict: \"+str(sc_y.inverse_transform(regressor.predict(sc_X.transform([[15]])))))"
      ],
      "execution_count": 424,
      "outputs": [
        {
          "output_type": "stream",
          "text": [
            "150K (Angers)\n",
            "Predict: [12.70672805]\n"
          ],
          "name": "stdout"
        }
      ]
    },
    {
      "cell_type": "code",
      "metadata": {
        "colab": {
          "base_uri": "https://localhost:8080/"
        },
        "id": "EUT1pi2SEznK",
        "outputId": "ca2e1f39-d233-4f85-afb2-5352786b3f20"
      },
      "source": [
        "print('215K (Rennes)')\r\n",
        "print(\"Predict: \"+str(sc_y.inverse_transform(regressor.predict(sc_X.transform([[21]])))))"
      ],
      "execution_count": 425,
      "outputs": [
        {
          "output_type": "stream",
          "text": [
            "215K (Rennes)\n",
            "Predict: [20.49885932]\n"
          ],
          "name": "stdout"
        }
      ]
    }
  ]
}