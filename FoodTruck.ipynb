{
  "nbformat": 4,
  "nbformat_minor": 0,
  "metadata": {
    "colab": {
      "name": "FoodTruck.ipynb",
      "provenance": [],
      "collapsed_sections": [
        "agZd77-LyoRx",
        "ll6HSr0jyqx_",
        "VWFV3ptX0mrr",
        "j9J14SOb5Jzw",
        "2wGtVkzx5MV6",
        "lG-53Xq15OKu"
      ]
    },
    "kernelspec": {
      "name": "python3",
      "display_name": "Python 3"
    }
  },
  "cells": [
    {
      "cell_type": "markdown",
      "metadata": {
        "id": "_CsUW1vsvjPt"
      },
      "source": [
        "# Problem\r\n",
        "\r\n",
        "Suppose you are the CEO of a Food Trucks franchise. You are considering different cities to open a new point of sale. The chain already has trucks in different cities and you have data for the city's profits and populations.\r\n",
        "You want to use this data to help you choose the city to open a new point of sale."
      ]
    },
    {
      "cell_type": "code",
      "metadata": {
        "id": "qjqyovkutyMl"
      },
      "source": [
        "import pandas as pd\r\n",
        "import numpy as np\r\n",
        "import matplotlib.pyplot as plt"
      ],
      "execution_count": 4,
      "outputs": []
    },
    {
      "cell_type": "code",
      "metadata": {
        "id": "KPl_IJaGt3r2"
      },
      "source": [
        "dataset = pd.read_csv('univariate_linear_regression_dataset.csv')\r\n",
        "X = dataset.iloc[:, 0].values\r\n",
        "y = dataset.iloc[:, -1].values"
      ],
      "execution_count": 5,
      "outputs": []
    },
    {
      "cell_type": "code",
      "metadata": {
        "colab": {
          "base_uri": "https://localhost:8080/",
          "height": 402
        },
        "id": "GYIQu7uvvaCI",
        "outputId": "19627ddf-1fa9-43a3-9108-e8a305618609"
      },
      "source": [
        "dataset"
      ],
      "execution_count": 6,
      "outputs": [
        {
          "output_type": "execute_result",
          "data": {
            "text/html": [
              "<div>\n",
              "<style scoped>\n",
              "    .dataframe tbody tr th:only-of-type {\n",
              "        vertical-align: middle;\n",
              "    }\n",
              "\n",
              "    .dataframe tbody tr th {\n",
              "        vertical-align: top;\n",
              "    }\n",
              "\n",
              "    .dataframe thead th {\n",
              "        text-align: right;\n",
              "    }\n",
              "</style>\n",
              "<table border=\"1\" class=\"dataframe\">\n",
              "  <thead>\n",
              "    <tr style=\"text-align: right;\">\n",
              "      <th></th>\n",
              "      <th>pop</th>\n",
              "      <th>profit</th>\n",
              "    </tr>\n",
              "  </thead>\n",
              "  <tbody>\n",
              "    <tr>\n",
              "      <th>0</th>\n",
              "      <td>6.1101</td>\n",
              "      <td>17.59200</td>\n",
              "    </tr>\n",
              "    <tr>\n",
              "      <th>1</th>\n",
              "      <td>5.5277</td>\n",
              "      <td>9.13020</td>\n",
              "    </tr>\n",
              "    <tr>\n",
              "      <th>2</th>\n",
              "      <td>8.5186</td>\n",
              "      <td>13.66200</td>\n",
              "    </tr>\n",
              "    <tr>\n",
              "      <th>3</th>\n",
              "      <td>7.0032</td>\n",
              "      <td>11.85400</td>\n",
              "    </tr>\n",
              "    <tr>\n",
              "      <th>4</th>\n",
              "      <td>5.8598</td>\n",
              "      <td>6.82330</td>\n",
              "    </tr>\n",
              "    <tr>\n",
              "      <th>...</th>\n",
              "      <td>...</td>\n",
              "      <td>...</td>\n",
              "    </tr>\n",
              "    <tr>\n",
              "      <th>92</th>\n",
              "      <td>5.8707</td>\n",
              "      <td>7.20290</td>\n",
              "    </tr>\n",
              "    <tr>\n",
              "      <th>93</th>\n",
              "      <td>5.3054</td>\n",
              "      <td>1.98690</td>\n",
              "    </tr>\n",
              "    <tr>\n",
              "      <th>94</th>\n",
              "      <td>8.2934</td>\n",
              "      <td>0.14454</td>\n",
              "    </tr>\n",
              "    <tr>\n",
              "      <th>95</th>\n",
              "      <td>13.3940</td>\n",
              "      <td>9.05510</td>\n",
              "    </tr>\n",
              "    <tr>\n",
              "      <th>96</th>\n",
              "      <td>5.4369</td>\n",
              "      <td>0.61705</td>\n",
              "    </tr>\n",
              "  </tbody>\n",
              "</table>\n",
              "<p>97 rows × 2 columns</p>\n",
              "</div>"
            ],
            "text/plain": [
              "        pop    profit\n",
              "0    6.1101  17.59200\n",
              "1    5.5277   9.13020\n",
              "2    8.5186  13.66200\n",
              "3    7.0032  11.85400\n",
              "4    5.8598   6.82330\n",
              "..      ...       ...\n",
              "92   5.8707   7.20290\n",
              "93   5.3054   1.98690\n",
              "94   8.2934   0.14454\n",
              "95  13.3940   9.05510\n",
              "96   5.4369   0.61705\n",
              "\n",
              "[97 rows x 2 columns]"
            ]
          },
          "metadata": {
            "tags": []
          },
          "execution_count": 6
        }
      ]
    },
    {
      "cell_type": "code",
      "metadata": {
        "colab": {
          "base_uri": "https://localhost:8080/",
          "height": 295
        },
        "id": "XIWNAGg8uqA2",
        "outputId": "eb04426b-8cf2-4473-e369-8077d9e63e21"
      },
      "source": [
        "axes = plt.axes()\r\n",
        "axes.grid()\r\n",
        "plt.title(\"Representation\")\r\n",
        "plt.scatter(X, y)\r\n",
        "plt.xlabel(\"Population (10k)\")\r\n",
        "plt.ylabel(\"Profit (10k)\")\r\n",
        "plt.show()"
      ],
      "execution_count": 7,
      "outputs": [
        {
          "output_type": "display_data",
          "data": {
            "image/png": "[encoded data removed]",
            "text/plain": [
              "<Figure size 432x288 with 1 Axes>"
            ]
          },
          "metadata": {
            "tags": [],
            "needs_background": "light"
          }
        }
      ]
    },
    {
      "cell_type": "markdown",
      "metadata": {
        "id": "4nOkAp2TBUOZ"
      },
      "source": [
        "# Linear Regression Model"
      ]
    },
    {
      "cell_type": "markdown",
      "metadata": {
        "id": "agZd77-LyoRx"
      },
      "source": [
        "## Scipy Regression"
      ]
    },
    {
      "cell_type": "code",
      "metadata": {
        "id": "EsqN6W_jv8H9"
      },
      "source": [
        "from scipy import stats\r\n",
        "slope, intercept, r_value, p_value, std_err = stats.linregress(X, y)"
      ],
      "execution_count": 8,
      "outputs": []
    },
    {
      "cell_type": "code",
      "metadata": {
        "id": "4t9I0jbSwS2d"
      },
      "source": [
        "def predict(X):\r\n",
        "  return slope * X + intercept"
      ],
      "execution_count": 9,
      "outputs": []
    },
    {
      "cell_type": "code",
      "metadata": {
        "colab": {
          "base_uri": "https://localhost:8080/",
          "height": 295
        },
        "id": "ujleaZLawnLR",
        "outputId": "894a7226-7b52-4288-8c9e-557c560fea0d"
      },
      "source": [
        "axes = plt.axes()\r\n",
        "axes.grid()\r\n",
        "plt.title(\" Scipy Predictions\")\r\n",
        "plt.plot(X, predict(X), c='r')\r\n",
        "plt.scatter(X, y, c='b')\r\n",
        "plt.xlabel('Population (10k)')\r\n",
        "plt.ylabel('Profit (10k)')\r\n",
        "plt.xlim((4.5, 22.5))\r\n",
        "plt.ylim((-5, 25))\r\n",
        "plt.show()"
      ],
      "execution_count": 10,
      "outputs": [
        {
          "output_type": "display_data",
          "data": {
            "image/png": "[encoded data removed]",
            "text/plain": [
              "<Figure size 432x288 with 1 Axes>"
            ]
          },
          "metadata": {
            "tags": [],
            "needs_background": "light"
          }
        }
      ]
    },
    {
      "cell_type": "markdown",
      "metadata": {
        "id": "ll6HSr0jyqx_"
      },
      "source": [
        "## Scikit Learn Regression"
      ]
    },
    {
      "cell_type": "code",
      "metadata": {
        "id": "eY1KIoH4ytye"
      },
      "source": [
        "from sklearn.model_selection import train_test_split\r\n",
        "X = X.reshape(X.shape[0], 1)\r\n",
        "y = y.reshape(y.shape[0], 1)\r\n",
        "X_train, X_test, y_train, y_test = train_test_split(X, y, test_size=0.2, random_state=0)"
      ],
      "execution_count": 11,
      "outputs": []
    },
    {
      "cell_type": "code",
      "metadata": {
        "colab": {
          "base_uri": "https://localhost:8080/"
        },
        "id": "O-F5wI0i2uRG",
        "outputId": "d0752324-dd5f-438c-e096-88da8fe1452e"
      },
      "source": [
        "from sklearn.linear_model import LinearRegression\r\n",
        "regressor = LinearRegression()\r\n",
        "regressor.fit(X_train, y_train)"
      ],
      "execution_count": 12,
      "outputs": [
        {
          "output_type": "execute_result",
          "data": {
            "text/plain": [
              "LinearRegression(copy_X=True, fit_intercept=True, n_jobs=None, normalize=False)"
            ]
          },
          "metadata": {
            "tags": []
          },
          "execution_count": 12
        }
      ]
    },
    {
      "cell_type": "code",
      "metadata": {
        "id": "nf6U3rGK22BU"
      },
      "source": [
        "y_pred = regressor.predict(X_test)"
      ],
      "execution_count": 13,
      "outputs": []
    },
    {
      "cell_type": "code",
      "metadata": {
        "colab": {
          "base_uri": "https://localhost:8080/",
          "height": 295
        },
        "id": "aO1q_AgSzm_U",
        "outputId": "f092f323-68c4-4cc0-822c-85e86763930e"
      },
      "source": [
        "axes = plt.axes()\r\n",
        "axes.grid()\r\n",
        "plt.scatter(X_train, y_train, color='blue')\r\n",
        "plt.plot(X_train, regressor.predict(X_train), color='red')\r\n",
        "plt.title(\"SKL Regression - Train set\")\r\n",
        "plt.xlabel(\"Population (10k)\")\r\n",
        "plt.ylabel('Profit (10k)')\r\n",
        "plt.show()"
      ],
      "execution_count": 14,
      "outputs": [
        {
          "output_type": "display_data",
          "data": {
            "image/png": "[encoded data removed]",
            "text/plain": [
              "<Figure size 432x288 with 1 Axes>"
            ]
          },
          "metadata": {
            "tags": [],
            "needs_background": "light"
          }
        }
      ]
    },
    {
      "cell_type": "code",
      "metadata": {
        "colab": {
          "base_uri": "https://localhost:8080/",
          "height": 295
        },
        "id": "m_49fJBr3Poz",
        "outputId": "5b298e5a-50c4-4fa1-dffc-59e864999e68"
      },
      "source": [
        "axes = plt.axes()\r\n",
        "axes.grid()\r\n",
        "plt.scatter(X_test, y_test, color='blue')\r\n",
        "plt.plot(X_test, y_pred, color='red')\r\n",
        "plt.title(\"SKL Regression - Test set\")\r\n",
        "plt.xlabel(\"Population (10k)\")\r\n",
        "plt.ylabel('Profit (10k)')\r\n",
        "plt.show()"
      ],
      "execution_count": 15,
      "outputs": [
        {
          "output_type": "display_data",
          "data": {
            "image/png": "[encoded data removed]",
            "text/plain": [
              "<Figure size 432x288 with 1 Axes>"
            ]
          },
          "metadata": {
            "tags": [],
            "needs_background": "light"
          }
        }
      ]
    },
    {
      "cell_type": "markdown",
      "metadata": {
        "id": "VWFV3ptX0mrr"
      },
      "source": [
        "## Compare Scipy and SKLearn"
      ]
    },
    {
      "cell_type": "markdown",
      "metadata": {
        "id": "j9J14SOb5Jzw"
      },
      "source": [
        "### R2 Scores Plots"
      ]
    },
    {
      "cell_type": "code",
      "metadata": {
        "colab": {
          "base_uri": "https://localhost:8080/",
          "height": 295
        },
        "id": "U3pHTLe30mKF",
        "outputId": "2d3452fd-6e88-4022-a3fe-7868588ade2c"
      },
      "source": [
        "axes = plt.axes()\r\n",
        "axes.grid()\r\n",
        "plt.title('Scipy vs Sklearn results')\r\n",
        "plt.plot(X_test, y_pred, c='b', label=\"sklearn\")\r\n",
        "plt.plot(X_test, predict(X_test), c='r', label=\"scipy\")\r\n",
        "plt.xlabel(\"Population (10k)\")\r\n",
        "plt.ylabel('Profit (10k)')\r\n",
        "plt.legend(loc=\"lower right\")\r\n",
        "plt.show()"
      ],
      "execution_count": 16,
      "outputs": [
        {
          "output_type": "display_data",
          "data": {
            "image/png": "[encoded data removed]",
            "text/plain": [
              "<Figure size 432x288 with 1 Axes>"
            ]
          },
          "metadata": {
            "tags": [],
            "needs_background": "light"
          }
        }
      ]
    },
    {
      "cell_type": "markdown",
      "metadata": {
        "id": "2wGtVkzx5MV6"
      },
      "source": [
        "### R2 Scores"
      ]
    },
    {
      "cell_type": "code",
      "metadata": {
        "colab": {
          "base_uri": "https://localhost:8080/"
        },
        "id": "G6wA04651DjO",
        "outputId": "aa7f76e1-f775-4eff-c293-0d4256690086"
      },
      "source": [
        "from sklearn.metrics import r2_score\r\n",
        "print(\"Scipy: \"+str(r_value))\r\n",
        "print(\"SKLearn: \"+str(r2_score(y_train, regressor.predict(X_train))))"
      ],
      "execution_count": 17,
      "outputs": [
        {
          "output_type": "stream",
          "text": [
            "Scipy: 0.8378732325263409\n",
            "SKLearn: 0.7221737943890659\n"
          ],
          "name": "stdout"
        }
      ]
    },
    {
      "cell_type": "markdown",
      "metadata": {
        "id": "lG-53Xq15OKu"
      },
      "source": [
        "### Random Predictions"
      ]
    },
    {
      "cell_type": "code",
      "metadata": {
        "colab": {
          "base_uri": "https://localhost:8080/"
        },
        "id": "wkg4Y_Yf5Q7a",
        "outputId": "7ed616f5-11b7-4de5-d6b5-811daa8e3b5a"
      },
      "source": [
        "angers = np.array([15])\r\n",
        "angers = angers.reshape(angers.shape[0], 1)\r\n",
        "print(\"150K (Angers)\")\r\n",
        "print(\"Scipy: [\"+str(predict(15))+\"]\")\r\n",
        "print(\"SkLearn: \"+str(regressor.predict(angers).reshape(1,)))\r\n",
        "print(\"Delta = \"+str(np.abs(predict(15)-regressor.predict(angers).reshape(1,))))"
      ],
      "execution_count": 18,
      "outputs": [
        {
          "output_type": "stream",
          "text": [
            "150K (Angers)\n",
            "Scipy: [13.999723784532057]\n",
            "SkLearn: [13.772103]\n",
            "Delta = [0.22762078]\n"
          ],
          "name": "stdout"
        }
      ]
    },
    {
      "cell_type": "code",
      "metadata": {
        "colab": {
          "base_uri": "https://localhost:8080/"
        },
        "id": "oNFM2VIQ6IYS",
        "outputId": "9114e45e-528b-461b-cbd3-c8c527aa4158"
      },
      "source": [
        "rennes = np.array([21])\r\n",
        "rennes = rennes.reshape(rennes.shape[0], 1)\r\n",
        "print(\"215K (Rennes)\")\r\n",
        "print(\"Scipy: [\"+str(predict(21))+\"]\")\r\n",
        "print(\"SkLearn: \"+str(regressor.predict(rennes).reshape(1,)))\r\n",
        "print(\"Delta = \"+str(np.abs(predict(21)-regressor.predict(rennes).reshape(1,))))"
      ],
      "execution_count": 19,
      "outputs": [
        {
          "output_type": "stream",
          "text": [
            "215K (Rennes)\n",
            "Scipy: [21.15792564966962]\n",
            "SkLearn: [20.79185634]\n",
            "Delta = [0.36606931]\n"
          ],
          "name": "stdout"
        }
      ]
    },
    {
      "cell_type": "markdown",
      "metadata": {
        "id": "GyCOzwuIBllh"
      },
      "source": [
        "# Support Vector Machine Model"
      ]
    },
    {
      "cell_type": "code",
      "metadata": {
        "id": "XN3iVHbOBnDq"
      },
      "source": [
        "from sklearn.preprocessing import StandardScaler\r\n",
        "sc_X = StandardScaler()\r\n",
        "sc_y = StandardScaler()\r\n",
        "X = sc_X.fit_transform(X)\r\n",
        "y = sc_y.fit_transform(y)"
      ],
      "execution_count": 20,
      "outputs": []
    },
    {
      "cell_type": "code",
      "metadata": {
        "colab": {
          "base_uri": "https://localhost:8080/"
        },
        "id": "J0jSzktGCMZ2",
        "outputId": "7d871bc7-3ade-44a4-b519-aaf23aa708d4"
      },
      "source": [
        "from sklearn.svm import SVR\r\n",
        "regressor = SVR(kernel=\"rbf\")\r\n",
        "regressor.fit(X, y)"
      ],
      "execution_count": 21,
      "outputs": [
        {
          "output_type": "stream",
          "text": [
            "/usr/local/lib/python3.6/dist-packages/sklearn/utils/validation.py:760: DataConversionWarning: A column-vector y was passed when a 1d array was expected. Please change the shape of y to (n_samples, ), for example using ravel().\n",
            "  y = column_or_1d(y, warn=True)\n"
          ],
          "name": "stderr"
        },
        {
          "output_type": "execute_result",
          "data": {
            "text/plain": [
              "SVR(C=1.0, cache_size=200, coef0=0.0, degree=3, epsilon=0.1, gamma='scale',\n",
              "    kernel='rbf', max_iter=-1, shrinking=True, tol=0.001, verbose=False)"
            ]
          },
          "metadata": {
            "tags": []
          },
          "execution_count": 21
        }
      ]
    },
    {
      "cell_type": "markdown",
      "metadata": {
        "id": "KNmSzgD-NDfj"
      },
      "source": [
        "## Model Plot"
      ]
    },
    {
      "cell_type": "code",
      "metadata": {
        "colab": {
          "base_uri": "https://localhost:8080/",
          "height": 295
        },
        "id": "4lX0CqL_Csfz",
        "outputId": "61c82092-b016-4f6d-ad89-8c17cfedfe62"
      },
      "source": [
        "axes = plt.axes()\r\n",
        "axes.grid()\r\n",
        "X_grid = np.arange(min(sc_X.inverse_transform(X)), max(sc_X.inverse_transform(X)), 0.1)\r\n",
        "X_grid = X_grid.reshape((len(X_grid), 1))\r\n",
        "plt.scatter(sc_X.inverse_transform(X), sc_y.inverse_transform(y), color = 'red')\r\n",
        "plt.plot(X_grid, sc_y.inverse_transform(regressor.predict(sc_X.transform(X_grid))), color = 'blue')\r\n",
        "plt.title('SVM Model')\r\n",
        "plt.xlabel('Population (10k)')\r\n",
        "plt.ylabel('Profit (10k)')\r\n",
        "plt.show()"
      ],
      "execution_count": 22,
      "outputs": [
        {
          "output_type": "display_data",
          "data": {
            "image/png": "[encoded data removed]",
            "text/plain": [
              "<Figure size 432x288 with 1 Axes>"
            ]
          },
          "metadata": {
            "tags": [],
            "needs_background": "light"
          }
        }
      ]
    },
    {
      "cell_type": "markdown",
      "metadata": {
        "id": "arnckDvuEwuM"
      },
      "source": [
        "## Random Predictions"
      ]
    },
    {
      "cell_type": "code",
      "metadata": {
        "colab": {
          "base_uri": "https://localhost:8080/"
        },
        "id": "kIdhS-MSEyZD",
        "outputId": "fe11be02-1f6a-4c45-f956-b9b7fcd6f153"
      },
      "source": [
        "print('150K (Angers)')\r\n",
        "print(\"Predict: \"+str(sc_y.inverse_transform(regressor.predict(sc_X.transform([[15]])))))"
      ],
      "execution_count": 23,
      "outputs": [
        {
          "output_type": "stream",
          "text": [
            "150K (Angers)\n",
            "Predict: [12.70672805]\n"
          ],
          "name": "stdout"
        }
      ]
    },
    {
      "cell_type": "code",
      "metadata": {
        "colab": {
          "base_uri": "https://localhost:8080/"
        },
        "id": "EUT1pi2SEznK",
        "outputId": "22d858b5-fdfe-4424-80b6-4d0a254487a1"
      },
      "source": [
        "print('215K (Rennes)')\r\n",
        "print(\"Predict: \"+str(sc_y.inverse_transform(regressor.predict(sc_X.transform([[21]])))))"
      ],
      "execution_count": 24,
      "outputs": [
        {
          "output_type": "stream",
          "text": [
            "215K (Rennes)\n",
            "Predict: [20.49885932]\n"
          ],
          "name": "stdout"
        }
      ]
    },
    {
      "cell_type": "markdown",
      "metadata": {
        "id": "-kJ2nr9ZNNmy"
      },
      "source": [
        "## R2 Score"
      ]
    },
    {
      "cell_type": "code",
      "metadata": {
        "colab": {
          "base_uri": "https://localhost:8080/"
        },
        "id": "tqEAXiu4NPAQ",
        "outputId": "dbf8c76a-8ee0-4712-f315-75442013f6f6"
      },
      "source": [
        "print(r2_score(sc_y.inverse_transform(y), sc_y.inverse_transform(regressor.predict(sc_X.transform(sc_X.inverse_transform(X))))))"
      ],
      "execution_count": 25,
      "outputs": [
        {
          "output_type": "stream",
          "text": [
            "0.6931820237472562\n"
          ],
          "name": "stdout"
        }
      ]
    },
    {
      "cell_type": "markdown",
      "metadata": {
        "id": "XNOaABwMI8Mz"
      },
      "source": [
        "# Polynomial Regression Model"
      ]
    },
    {
      "cell_type": "code",
      "metadata": {
        "colab": {
          "base_uri": "https://localhost:8080/"
        },
        "id": "3YuSACjzI98L",
        "outputId": "e0dbbe3a-0a13-4e47-f48c-c123103c03b0"
      },
      "source": [
        "lin_reg = LinearRegression()\r\n",
        "lin_reg.fit(X, y)"
      ],
      "execution_count": 26,
      "outputs": [
        {
          "output_type": "execute_result",
          "data": {
            "text/plain": [
              "LinearRegression(copy_X=True, fit_intercept=True, n_jobs=None, normalize=False)"
            ]
          },
          "metadata": {
            "tags": []
          },
          "execution_count": 26
        }
      ]
    },
    {
      "cell_type": "code",
      "metadata": {
        "colab": {
          "base_uri": "https://localhost:8080/"
        },
        "id": "XyON4s7AJFAg",
        "outputId": "d4ccaf46-1579-4269-cd62-443df861f8e4"
      },
      "source": [
        "from sklearn.preprocessing import PolynomialFeatures\r\n",
        "poly_reg4 = PolynomialFeatures(degree=4)\r\n",
        "X_poly4 = poly_reg4.fit_transform(X)\r\n",
        "lin_reg4 = LinearRegression()\r\n",
        "lin_reg4.fit(X_poly4, y)"
      ],
      "execution_count": 27,
      "outputs": [
        {
          "output_type": "execute_result",
          "data": {
            "text/plain": [
              "LinearRegression(copy_X=True, fit_intercept=True, n_jobs=None, normalize=False)"
            ]
          },
          "metadata": {
            "tags": []
          },
          "execution_count": 27
        }
      ]
    },
    {
      "cell_type": "markdown",
      "metadata": {
        "id": "hEGy0ZUyNT3R"
      },
      "source": [
        "## Model plot"
      ]
    },
    {
      "cell_type": "code",
      "metadata": {
        "colab": {
          "base_uri": "https://localhost:8080/",
          "height": 295
        },
        "id": "Y4CzUmm5JaJS",
        "outputId": "9b306700-d000-41c8-be9a-690ed10a44d9"
      },
      "source": [
        "axes = plt.axes()\r\n",
        "axes.grid()\r\n",
        "X_grid = np.arange(min(X), max(X), 0.1)\r\n",
        "X_grid = X_grid.reshape((len(X_grid), 1))\r\n",
        "plt.scatter(X, y, color = 'red')\r\n",
        "plt.plot(X_grid, lin_reg4.predict(poly_reg4.fit_transform(X_grid)), color = 'blue')\r\n",
        "plt.title('Polynomial Regression | degree=4')\r\n",
        "plt.xlabel('Population (10k)')\r\n",
        "plt.ylabel('Profit (10k)')\r\n",
        "plt.show()"
      ],
      "execution_count": 38,
      "outputs": [
        {
          "output_type": "display_data",
          "data": {
            "image/png": "[encoded data removed]",
            "text/plain": [
              "<Figure size 432x288 with 1 Axes>"
            ]
          },
          "metadata": {
            "tags": [],
            "needs_background": "light"
          }
        }
      ]
    },
    {
      "cell_type": "markdown",
      "metadata": {
        "id": "ZdG6VQLQJoaA"
      },
      "source": [
        "## Random Predictions"
      ]
    },
    {
      "cell_type": "code",
      "metadata": {
        "colab": {
          "base_uri": "https://localhost:8080/"
        },
        "id": "5ew6wyudJspe",
        "outputId": "ea3e4dfe-2920-485c-bd28-582ca2a8c968"
      },
      "source": [
        "print('150K (Angers)')\r\n",
        "print(\"Predict lin: \"+str(lin_reg.predict([[15]])))\r\n",
        "print(\"Predict poly: \"+str(poly_reg4.fit_transform([[15]])))"
      ],
      "execution_count": 29,
      "outputs": [
        {
          "output_type": "stream",
          "text": [
            "150K (Angers)\n",
            "Predict lin: [[12.56809849]]\n",
            "Predict poly: [[1.0000e+00 1.5000e+01 2.2500e+02 3.3750e+03 5.0625e+04]]\n"
          ],
          "name": "stdout"
        }
      ]
    },
    {
      "cell_type": "code",
      "metadata": {
        "colab": {
          "base_uri": "https://localhost:8080/"
        },
        "id": "SEPEXvHIKCW8",
        "outputId": "1b537e31-d527-43df-8460-3badb5140497"
      },
      "source": [
        "print('215K (Rennes)')\r\n",
        "print(\"Predict lin: \"+str(lin_reg.predict([[21]])))\r\n",
        "print(\"Predict poly: \"+str(poly_reg4.fit_transform([[21]])))"
      ],
      "execution_count": 30,
      "outputs": [
        {
          "output_type": "stream",
          "text": [
            "215K (Rennes)\n",
            "Predict lin: [[17.59533788]]\n",
            "Predict poly: [[1.00000e+00 2.10000e+01 4.41000e+02 9.26100e+03 1.94481e+05]]\n"
          ],
          "name": "stdout"
        }
      ]
    },
    {
      "cell_type": "markdown",
      "metadata": {
        "id": "9ZVz2KQwNXsw"
      },
      "source": [
        "## R2 Score"
      ]
    },
    {
      "cell_type": "code",
      "metadata": {
        "colab": {
          "base_uri": "https://localhost:8080/"
        },
        "id": "GhI8ignyKUQT",
        "outputId": "e34ac07f-3004-46b3-ec1a-d90ba6a17fd0"
      },
      "source": [
        "print(r2_score(y, lin_reg.predict(X)))"
      ],
      "execution_count": 31,
      "outputs": [
        {
          "output_type": "stream",
          "text": [
            "0.7020315537841397\n"
          ],
          "name": "stdout"
        }
      ]
    },
    {
      "cell_type": "markdown",
      "metadata": {
        "id": "qfmGvQw-KjoU"
      },
      "source": [
        "# Decision Tree Regression"
      ]
    },
    {
      "cell_type": "code",
      "metadata": {
        "colab": {
          "base_uri": "https://localhost:8080/"
        },
        "id": "4PRtl6x5Kl4N",
        "outputId": "6238e3eb-eb6f-40fb-95d1-767a008054c4"
      },
      "source": [
        "from sklearn.tree import DecisionTreeRegressor\r\n",
        "regressor = DecisionTreeRegressor(random_state=0)\r\n",
        "regressor.fit(X, y)"
      ],
      "execution_count": 32,
      "outputs": [
        {
          "output_type": "execute_result",
          "data": {
            "text/plain": [
              "DecisionTreeRegressor(ccp_alpha=0.0, criterion='mse', max_depth=None,\n",
              "                      max_features=None, max_leaf_nodes=None,\n",
              "                      min_impurity_decrease=0.0, min_impurity_split=None,\n",
              "                      min_samples_leaf=1, min_samples_split=2,\n",
              "                      min_weight_fraction_leaf=0.0, presort='deprecated',\n",
              "                      random_state=0, splitter='best')"
            ]
          },
          "metadata": {
            "tags": []
          },
          "execution_count": 32
        }
      ]
    },
    {
      "cell_type": "markdown",
      "metadata": {
        "id": "s1AqT3fSNdk0"
      },
      "source": [
        "## Model Plot"
      ]
    },
    {
      "cell_type": "code",
      "metadata": {
        "colab": {
          "base_uri": "https://localhost:8080/",
          "height": 295
        },
        "id": "2BlnIGqUKwYo",
        "outputId": "cc768472-683b-49af-a5b0-eb163aa43846"
      },
      "source": [
        "axes = plt.axes()\r\n",
        "axes.grid()\r\n",
        "X_grid = np.arange(min(X), max(X), 0.1)\r\n",
        "X_grid = X_grid.reshape(len(X_grid), 1);\r\n",
        "plt.scatter(X, y, color='red')\r\n",
        "plt.plot(X_grid, regressor.predict(X_grid), color='blue')\r\n",
        "plt.title('Decision Tree Model')\r\n",
        "plt.xlabel('Population (10k)')\r\n",
        "plt.ylabel('Profit (10k)')\r\n",
        "plt.show()"
      ],
      "execution_count": 39,
      "outputs": [
        {
          "output_type": "display_data",
          "data": {
            "image/png": "[encoded data removed]",
            "text/plain": [
              "<Figure size 432x288 with 1 Axes>"
            ]
          },
          "metadata": {
            "tags": [],
            "needs_background": "light"
          }
        }
      ]
    },
    {
      "cell_type": "markdown",
      "metadata": {
        "id": "4ar9KzPMNfKA"
      },
      "source": [
        "## R2 Score"
      ]
    },
    {
      "cell_type": "code",
      "metadata": {
        "colab": {
          "base_uri": "https://localhost:8080/"
        },
        "id": "L6yQaH-jK1zG",
        "outputId": "babacfaf-0634-4c48-ecc6-8bde02bb8582"
      },
      "source": [
        "print(r2_score(y, regressor.predict(X)))"
      ],
      "execution_count": 34,
      "outputs": [
        {
          "output_type": "stream",
          "text": [
            "1.0\n"
          ],
          "name": "stdout"
        }
      ]
    },
    {
      "cell_type": "markdown",
      "metadata": {
        "id": "b-QbIQJEK9x7"
      },
      "source": [
        "# Random Forest Regression"
      ]
    },
    {
      "cell_type": "code",
      "metadata": {
        "colab": {
          "base_uri": "https://localhost:8080/"
        },
        "id": "pfYKTGeXLBI1",
        "outputId": "c0fc2ca1-325f-4c0c-ee10-9d043b66e3a7"
      },
      "source": [
        "from sklearn.ensemble import RandomForestRegressor\r\n",
        "regressor = RandomForestRegressor(n_estimators=10, random_state=0)\r\n",
        "regressor.fit(X, y)"
      ],
      "execution_count": 35,
      "outputs": [
        {
          "output_type": "stream",
          "text": [
            "/usr/local/lib/python3.6/dist-packages/ipykernel_launcher.py:3: DataConversionWarning: A column-vector y was passed when a 1d array was expected. Please change the shape of y to (n_samples,), for example using ravel().\n",
            "  This is separate from the ipykernel package so we can avoid doing imports until\n"
          ],
          "name": "stderr"
        },
        {
          "output_type": "execute_result",
          "data": {
            "text/plain": [
              "RandomForestRegressor(bootstrap=True, ccp_alpha=0.0, criterion='mse',\n",
              "                      max_depth=None, max_features='auto', max_leaf_nodes=None,\n",
              "                      max_samples=None, min_impurity_decrease=0.0,\n",
              "                      min_impurity_split=None, min_samples_leaf=1,\n",
              "                      min_samples_split=2, min_weight_fraction_leaf=0.0,\n",
              "                      n_estimators=10, n_jobs=None, oob_score=False,\n",
              "                      random_state=0, verbose=0, warm_start=False)"
            ]
          },
          "metadata": {
            "tags": []
          },
          "execution_count": 35
        }
      ]
    },
    {
      "cell_type": "markdown",
      "metadata": {
        "id": "Yr7i_-fKNlCQ"
      },
      "source": [
        "## Model Plot"
      ]
    },
    {
      "cell_type": "code",
      "metadata": {
        "colab": {
          "base_uri": "https://localhost:8080/",
          "height": 295
        },
        "id": "mO8pPvfYLK3j",
        "outputId": "8259a438-edbb-412e-e4b6-82c08b55d784"
      },
      "source": [
        "axes = plt.axes()\r\n",
        "axes.grid()\r\n",
        "X_grid = np.arange(min(X), max(X), 0.1)\r\n",
        "X_grid = X_grid.reshape(len(X_grid), 1);\r\n",
        "plt.scatter(X, y, color='red')\r\n",
        "plt.plot(X_grid, regressor.predict(X_grid), color='blue')\r\n",
        "plt.title('Random Forest | n_estimators=10')\r\n",
        "plt.xlabel('Population (10k)')\r\n",
        "plt.ylabel('Profit (10k)')\r\n",
        "plt.show()"
      ],
      "execution_count": 40,
      "outputs": [
        {
          "output_type": "display_data",
          "data": {
            "image/png": "[encoded data removed]",
            "text/plain": [
              "<Figure size 432x288 with 1 Axes>"
            ]
          },
          "metadata": {
            "tags": [],
            "needs_background": "light"
          }
        }
      ]
    },
    {
      "cell_type": "markdown",
      "metadata": {
        "id": "Pr1KNmoWNmn6"
      },
      "source": [
        "## R2 Score"
      ]
    },
    {
      "cell_type": "code",
      "metadata": {
        "colab": {
          "base_uri": "https://localhost:8080/"
        },
        "id": "aVaXeQmTLNpK",
        "outputId": "a5552186-09ef-45a4-e83c-d3bf99e210fd"
      },
      "source": [
        "print(r2_score(y, regressor.predict(X)))"
      ],
      "execution_count": 37,
      "outputs": [
        {
          "output_type": "stream",
          "text": [
            "0.9302612028627444\n"
          ],
          "name": "stdout"
        }
      ]
    }
  ]
}