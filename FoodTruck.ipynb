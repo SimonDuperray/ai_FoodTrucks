{
  "nbformat": 4,
  "nbformat_minor": 0,
  "metadata": {
    "colab": {
      "name": "FoodTruck.ipynb",
      "provenance": [],
      "collapsed_sections": [
        "agZd77-LyoRx",
        "ll6HSr0jyqx_",
        "VWFV3ptX0mrr",
        "j9J14SOb5Jzw",
        "2wGtVkzx5MV6",
        "lG-53Xq15OKu"
      ]
    },
    "kernelspec": {
      "name": "python3",
      "display_name": "Python 3"
    }
  },
  "cells": [
    {
      "cell_type": "markdown",
      "metadata": {
        "id": "_CsUW1vsvjPt"
      },
      "source": [
        "# Problem\r\n",
        "\r\n",
        "Suppose you are the CEO of a Food Trucks franchise. You are considering different cities to open a new point of sale. The chain already has trucks in different cities and you have data for the city's profits and populations.\r\n",
        "You want to use this data to help you choose the city to open a new point of sale."
      ]
    },
    {
      "cell_type": "code",
      "metadata": {
        "id": "qjqyovkutyMl"
      },
      "source": [
        "import pandas as pd\r\n",
        "import numpy as np\r\n",
        "import matplotlib.pyplot as plt"
      ],
      "execution_count": 492,
      "outputs": []
    },
    {
      "cell_type": "code",
      "metadata": {
        "id": "KPl_IJaGt3r2"
      },
      "source": [
        "dataset = pd.read_csv('univariate_linear_regression_dataset.csv')\r\n",
        "X = dataset.iloc[:, 0].values\r\n",
        "y = dataset.iloc[:, -1].values"
      ],
      "execution_count": 493,
      "outputs": []
    },
    {
      "cell_type": "code",
      "metadata": {
        "colab": {
          "base_uri": "https://localhost:8080/",
          "height": 402
        },
        "id": "GYIQu7uvvaCI",
        "outputId": "00952d6c-8a22-4ee4-b575-49652c2981cd"
      },
      "source": [
        "dataset"
      ],
      "execution_count": 494,
      "outputs": [
        {
          "output_type": "execute_result",
          "data": {
            "text/html": [
              "<div>\n",
              "<style scoped>\n",
              "    .dataframe tbody tr th:only-of-type {\n",
              "        vertical-align: middle;\n",
              "    }\n",
              "\n",
              "    .dataframe tbody tr th {\n",
              "        vertical-align: top;\n",
              "    }\n",
              "\n",
              "    .dataframe thead th {\n",
              "        text-align: right;\n",
              "    }\n",
              "</style>\n",
              "<table border=\"1\" class=\"dataframe\">\n",
              "  <thead>\n",
              "    <tr style=\"text-align: right;\">\n",
              "      <th></th>\n",
              "      <th>pop</th>\n",
              "      <th>profit</th>\n",
              "    </tr>\n",
              "  </thead>\n",
              "  <tbody>\n",
              "    <tr>\n",
              "      <th>0</th>\n",
              "      <td>6.1101</td>\n",
              "      <td>17.59200</td>\n",
              "    </tr>\n",
              "    <tr>\n",
              "      <th>1</th>\n",
              "      <td>5.5277</td>\n",
              "      <td>9.13020</td>\n",
              "    </tr>\n",
              "    <tr>\n",
              "      <th>2</th>\n",
              "      <td>8.5186</td>\n",
              "      <td>13.66200</td>\n",
              "    </tr>\n",
              "    <tr>\n",
              "      <th>3</th>\n",
              "      <td>7.0032</td>\n",
              "      <td>11.85400</td>\n",
              "    </tr>\n",
              "    <tr>\n",
              "      <th>4</th>\n",
              "      <td>5.8598</td>\n",
              "      <td>6.82330</td>\n",
              "    </tr>\n",
              "    <tr>\n",
              "      <th>...</th>\n",
              "      <td>...</td>\n",
              "      <td>...</td>\n",
              "    </tr>\n",
              "    <tr>\n",
              "      <th>92</th>\n",
              "      <td>5.8707</td>\n",
              "      <td>7.20290</td>\n",
              "    </tr>\n",
              "    <tr>\n",
              "      <th>93</th>\n",
              "      <td>5.3054</td>\n",
              "      <td>1.98690</td>\n",
              "    </tr>\n",
              "    <tr>\n",
              "      <th>94</th>\n",
              "      <td>8.2934</td>\n",
              "      <td>0.14454</td>\n",
              "    </tr>\n",
              "    <tr>\n",
              "      <th>95</th>\n",
              "      <td>13.3940</td>\n",
              "      <td>9.05510</td>\n",
              "    </tr>\n",
              "    <tr>\n",
              "      <th>96</th>\n",
              "      <td>5.4369</td>\n",
              "      <td>0.61705</td>\n",
              "    </tr>\n",
              "  </tbody>\n",
              "</table>\n",
              "<p>97 rows × 2 columns</p>\n",
              "</div>"
            ],
            "text/plain": [
              "        pop    profit\n",
              "0    6.1101  17.59200\n",
              "1    5.5277   9.13020\n",
              "2    8.5186  13.66200\n",
              "3    7.0032  11.85400\n",
              "4    5.8598   6.82330\n",
              "..      ...       ...\n",
              "92   5.8707   7.20290\n",
              "93   5.3054   1.98690\n",
              "94   8.2934   0.14454\n",
              "95  13.3940   9.05510\n",
              "96   5.4369   0.61705\n",
              "\n",
              "[97 rows x 2 columns]"
            ]
          },
          "metadata": {
            "tags": []
          },
          "execution_count": 494
        }
      ]
    },
    {
      "cell_type": "code",
      "metadata": {
        "colab": {
          "base_uri": "https://localhost:8080/",
          "height": 295
        },
        "id": "XIWNAGg8uqA2",
        "outputId": "68042ca3-1572-4029-c511-d6d50b2a79c0"
      },
      "source": [
        "axes = plt.axes()\r\n",
        "axes.grid()\r\n",
        "plt.title(\"Representation\")\r\n",
        "plt.scatter(X, y)\r\n",
        "plt.xlabel(\"Population (10k)\")\r\n",
        "plt.ylabel(\"Profit (10k)\")\r\n",
        "plt.show()"
      ],
      "execution_count": 495,
      "outputs": [
        {
          "output_type": "display_data",
          "data": {
            "image/png": "[encoded data removed]",
            "text/plain": [
              "<Figure size 432x288 with 1 Axes>"
            ]
          },
          "metadata": {
            "tags": [],
            "needs_background": "light"
          }
        }
      ]
    },
    {
      "cell_type": "markdown",
      "metadata": {
        "id": "4nOkAp2TBUOZ"
      },
      "source": [
        "# Linear Regression Model"
      ]
    },
    {
      "cell_type": "markdown",
      "metadata": {
        "id": "agZd77-LyoRx"
      },
      "source": [
        "## Scipy Regression"
      ]
    },
    {
      "cell_type": "code",
      "metadata": {
        "id": "EsqN6W_jv8H9"
      },
      "source": [
        "from scipy import stats\r\n",
        "slope, intercept, r_value, p_value, std_err = stats.linregress(X, y)"
      ],
      "execution_count": 496,
      "outputs": []
    },
    {
      "cell_type": "code",
      "metadata": {
        "id": "4t9I0jbSwS2d"
      },
      "source": [
        "def predict(X):\r\n",
        "  return slope * X + intercept"
      ],
      "execution_count": 497,
      "outputs": []
    },
    {
      "cell_type": "code",
      "metadata": {
        "colab": {
          "base_uri": "https://localhost:8080/",
          "height": 295
        },
        "id": "ujleaZLawnLR",
        "outputId": "d801d537-2b35-403c-d39f-95229af22afb"
      },
      "source": [
        "axes = plt.axes()\r\n",
        "axes.grid()\r\n",
        "plt.title(\" Scipy Predictions\")\r\n",
        "plt.plot(X, predict(X), c='r')\r\n",
        "plt.scatter(X, y, c='b')\r\n",
        "plt.xlabel('Population (10k)')\r\n",
        "plt.ylabel('Profit (10k)')\r\n",
        "plt.xlim((4.5, 22.5))\r\n",
        "plt.ylim((-5, 25))\r\n",
        "plt.show()"
      ],
      "execution_count": 498,
      "outputs": [
        {
          "output_type": "display_data",
          "data": {
            "image/png": "[encoded data removed]",
            "text/plain": [
              "<Figure size 432x288 with 1 Axes>"
            ]
          },
          "metadata": {
            "tags": [],
            "needs_background": "light"
          }
        }
      ]
    },
    {
      "cell_type": "markdown",
      "metadata": {
        "id": "ll6HSr0jyqx_"
      },
      "source": [
        "## Scikit Learn Regression"
      ]
    },
    {
      "cell_type": "code",
      "metadata": {
        "id": "eY1KIoH4ytye"
      },
      "source": [
        "from sklearn.model_selection import train_test_split\r\n",
        "X = X.reshape(X.shape[0], 1)\r\n",
        "y = y.reshape(y.shape[0], 1)\r\n",
        "X_train, X_test, y_train, y_test = train_test_split(X, y, test_size=0.2, random_state=0)"
      ],
      "execution_count": 499,
      "outputs": []
    },
    {
      "cell_type": "code",
      "metadata": {
        "colab": {
          "base_uri": "https://localhost:8080/"
        },
        "id": "O-F5wI0i2uRG",
        "outputId": "360b7e04-77ec-4995-fa4e-0921134fe9b7"
      },
      "source": [
        "from sklearn.linear_model import LinearRegression\r\n",
        "regressor = LinearRegression()\r\n",
        "regressor.fit(X_train, y_train)"
      ],
      "execution_count": 500,
      "outputs": [
        {
          "output_type": "execute_result",
          "data": {
            "text/plain": [
              "LinearRegression(copy_X=True, fit_intercept=True, n_jobs=None, normalize=False)"
            ]
          },
          "metadata": {
            "tags": []
          },
          "execution_count": 500
        }
      ]
    },
    {
      "cell_type": "code",
      "metadata": {
        "id": "nf6U3rGK22BU"
      },
      "source": [
        "y_pred = regressor.predict(X_test)"
      ],
      "execution_count": 501,
      "outputs": []
    },
    {
      "cell_type": "code",
      "metadata": {
        "colab": {
          "base_uri": "https://localhost:8080/",
          "height": 295
        },
        "id": "aO1q_AgSzm_U",
        "outputId": "f728889f-cc3f-4228-a0b9-c18848e87075"
      },
      "source": [
        "axes = plt.axes()\r\n",
        "axes.grid()\r\n",
        "plt.scatter(X_train, y_train, color='blue')\r\n",
        "plt.plot(X_train, regressor.predict(X_train), color='red')\r\n",
        "plt.title(\"SKL Regression - Train set\")\r\n",
        "plt.xlabel(\"Population (10k)\")\r\n",
        "plt.ylabel('Profit (10k)')\r\n",
        "plt.show()"
      ],
      "execution_count": 502,
      "outputs": [
        {
          "output_type": "display_data",
          "data": {
            "image/png": "[encoded data removed]",
            "text/plain": [
              "<Figure size 432x288 with 1 Axes>"
            ]
          },
          "metadata": {
            "tags": [],
            "needs_background": "light"
          }
        }
      ]
    },
    {
      "cell_type": "code",
      "metadata": {
        "colab": {
          "base_uri": "https://localhost:8080/",
          "height": 295
        },
        "id": "m_49fJBr3Poz",
        "outputId": "be8b485a-24c3-4ff5-9240-5bfc1e414b9a"
      },
      "source": [
        "axes = plt.axes()\r\n",
        "axes.grid()\r\n",
        "plt.scatter(X_test, y_test, color='blue')\r\n",
        "plt.plot(X_test, y_pred, color='red')\r\n",
        "plt.title(\"SKL Regression - Test set\")\r\n",
        "plt.xlabel(\"Population (10k)\")\r\n",
        "plt.ylabel('Profit (10k)')\r\n",
        "plt.show()"
      ],
      "execution_count": 503,
      "outputs": [
        {
          "output_type": "display_data",
          "data": {
            "image/png": "[encoded data removed]",
            "text/plain": [
              "<Figure size 432x288 with 1 Axes>"
            ]
          },
          "metadata": {
            "tags": [],
            "needs_background": "light"
          }
        }
      ]
    },
    {
      "cell_type": "markdown",
      "metadata": {
        "id": "VWFV3ptX0mrr"
      },
      "source": [
        "## Compare Scipy and SKLearn"
      ]
    },
    {
      "cell_type": "markdown",
      "metadata": {
        "id": "j9J14SOb5Jzw"
      },
      "source": [
        "### R2 Scores Plots"
      ]
    },
    {
      "cell_type": "code",
      "metadata": {
        "colab": {
          "base_uri": "https://localhost:8080/",
          "height": 295
        },
        "id": "U3pHTLe30mKF",
        "outputId": "b7832bdd-03a3-4a4d-873c-6d2c042471ff"
      },
      "source": [
        "axes = plt.axes()\r\n",
        "axes.grid()\r\n",
        "plt.title('Scipy vs Sklearn results')\r\n",
        "plt.plot(X_test, y_pred, c='b', label=\"sklearn\")\r\n",
        "plt.plot(X_test, predict(X_test), c='r', label=\"scipy\")\r\n",
        "plt.xlabel(\"Population (10k)\")\r\n",
        "plt.ylabel('Profit (10k)')\r\n",
        "plt.legend(loc=\"lower right\")\r\n",
        "plt.show()"
      ],
      "execution_count": 504,
      "outputs": [
        {
          "output_type": "display_data",
          "data": {
            "image/png": "[encoded data removed]",
            "text/plain": [
              "<Figure size 432x288 with 1 Axes>"
            ]
          },
          "metadata": {
            "tags": [],
            "needs_background": "light"
          }
        }
      ]
    },
    {
      "cell_type": "markdown",
      "metadata": {
        "id": "2wGtVkzx5MV6"
      },
      "source": [
        "### R2 Scores"
      ]
    },
    {
      "cell_type": "code",
      "metadata": {
        "colab": {
          "base_uri": "https://localhost:8080/"
        },
        "id": "G6wA04651DjO",
        "outputId": "ee0b56cc-395a-4874-954c-39a4d48d9f1d"
      },
      "source": [
        "from sklearn.metrics import r2_score\r\n",
        "print(\"Scipy: \"+str(r_value))\r\n",
        "print(\"SKLearn: \"+str(r2_score(y_train, regressor.predict(X_train))))"
      ],
      "execution_count": 505,
      "outputs": [
        {
          "output_type": "stream",
          "text": [
            "Scipy: 0.8378732325263409\n",
            "SKLearn: 0.7221737943890659\n"
          ],
          "name": "stdout"
        }
      ]
    },
    {
      "cell_type": "markdown",
      "metadata": {
        "id": "lG-53Xq15OKu"
      },
      "source": [
        "### Random Predictions"
      ]
    },
    {
      "cell_type": "code",
      "metadata": {
        "colab": {
          "base_uri": "https://localhost:8080/"
        },
        "id": "wkg4Y_Yf5Q7a",
        "outputId": "c2d03a8e-12f6-4951-f441-82584cb90c5c"
      },
      "source": [
        "angers = np.array([15])\r\n",
        "angers = angers.reshape(angers.shape[0], 1)\r\n",
        "print(\"150K (Angers)\")\r\n",
        "print(\"Scipy: [\"+str(predict(15))+\"]\")\r\n",
        "print(\"SkLearn: \"+str(regressor.predict(angers).reshape(1,)))\r\n",
        "print(\"Delta = \"+str(np.abs(predict(15)-regressor.predict(angers).reshape(1,))))"
      ],
      "execution_count": 506,
      "outputs": [
        {
          "output_type": "stream",
          "text": [
            "150K (Angers)\n",
            "Scipy: [13.999723784532057]\n",
            "SkLearn: [13.772103]\n",
            "Delta = [0.22762078]\n"
          ],
          "name": "stdout"
        }
      ]
    },
    {
      "cell_type": "code",
      "metadata": {
        "colab": {
          "base_uri": "https://localhost:8080/"
        },
        "id": "oNFM2VIQ6IYS",
        "outputId": "00f148b6-184a-4c7c-887d-ba261adfe005"
      },
      "source": [
        "rennes = np.array([21])\r\n",
        "rennes = rennes.reshape(rennes.shape[0], 1)\r\n",
        "print(\"215K (Rennes)\")\r\n",
        "print(\"Scipy: [\"+str(predict(21))+\"]\")\r\n",
        "print(\"SkLearn: \"+str(regressor.predict(rennes).reshape(1,)))\r\n",
        "print(\"Delta = \"+str(np.abs(predict(21)-regressor.predict(rennes).reshape(1,))))"
      ],
      "execution_count": 507,
      "outputs": [
        {
          "output_type": "stream",
          "text": [
            "215K (Rennes)\n",
            "Scipy: [21.15792564966962]\n",
            "SkLearn: [20.79185634]\n",
            "Delta = [0.36606931]\n"
          ],
          "name": "stdout"
        }
      ]
    },
    {
      "cell_type": "markdown",
      "metadata": {
        "id": "GyCOzwuIBllh"
      },
      "source": [
        "# Support Vector Machine Model"
      ]
    },
    {
      "cell_type": "code",
      "metadata": {
        "id": "XN3iVHbOBnDq"
      },
      "source": [
        "from sklearn.preprocessing import StandardScaler\r\n",
        "sc_X = StandardScaler()\r\n",
        "sc_y = StandardScaler()\r\n",
        "X = sc_X.fit_transform(X)\r\n",
        "y = sc_y.fit_transform(y)"
      ],
      "execution_count": 535,
      "outputs": []
    },
    {
      "cell_type": "code",
      "metadata": {
        "colab": {
          "base_uri": "https://localhost:8080/"
        },
        "id": "J0jSzktGCMZ2",
        "outputId": "855c076a-8fd3-4b68-95ff-2983b0de236f"
      },
      "source": [
        "from sklearn.svm import SVR\r\n",
        "regressor = SVR(kernel=\"rbf\")\r\n",
        "regressor.fit(X, y)"
      ],
      "execution_count": 536,
      "outputs": [
        {
          "output_type": "stream",
          "text": [
            "/usr/local/lib/python3.6/dist-packages/sklearn/utils/validation.py:760: DataConversionWarning: A column-vector y was passed when a 1d array was expected. Please change the shape of y to (n_samples, ), for example using ravel().\n",
            "  y = column_or_1d(y, warn=True)\n"
          ],
          "name": "stderr"
        },
        {
          "output_type": "execute_result",
          "data": {
            "text/plain": [
              "SVR(C=1.0, cache_size=200, coef0=0.0, degree=3, epsilon=0.1, gamma='scale',\n",
              "    kernel='rbf', max_iter=-1, shrinking=True, tol=0.001, verbose=False)"
            ]
          },
          "metadata": {
            "tags": []
          },
          "execution_count": 536
        }
      ]
    },
    {
      "cell_type": "markdown",
      "metadata": {
        "id": "KNmSzgD-NDfj"
      },
      "source": [
        "## Model Plot"
      ]
    },
    {
      "cell_type": "code",
      "metadata": {
        "colab": {
          "base_uri": "https://localhost:8080/",
          "height": 295
        },
        "id": "4lX0CqL_Csfz",
        "outputId": "d9cf0969-a95f-40ea-f1cc-1009a7d32002"
      },
      "source": [
        "X_grid = np.arange(min(sc_X.inverse_transform(X)), max(sc_X.inverse_transform(X)), 0.1)\r\n",
        "X_grid = X_grid.reshape((len(X_grid), 1))\r\n",
        "plt.scatter(sc_X.inverse_transform(X), sc_y.inverse_transform(y), color = 'red')\r\n",
        "plt.plot(X_grid, sc_y.inverse_transform(regressor.predict(sc_X.transform(X_grid))), color = 'blue')\r\n",
        "plt.title('SVM Model')\r\n",
        "plt.xlabel('Population (10k)')\r\n",
        "plt.ylabel('Profit (10k)')\r\n",
        "plt.show()"
      ],
      "execution_count": 537,
      "outputs": [
        {
          "output_type": "display_data",
          "data": {
            "image/png": "[encoded data removed]",
            "text/plain": [
              "<Figure size 432x288 with 1 Axes>"
            ]
          },
          "metadata": {
            "tags": [],
            "needs_background": "light"
          }
        }
      ]
    },
    {
      "cell_type": "markdown",
      "metadata": {
        "id": "arnckDvuEwuM"
      },
      "source": [
        "## Random Predictions"
      ]
    },
    {
      "cell_type": "code",
      "metadata": {
        "colab": {
          "base_uri": "https://localhost:8080/"
        },
        "id": "kIdhS-MSEyZD",
        "outputId": "276e8df6-2e66-4542-d199-c0fc88ce7260"
      },
      "source": [
        "print('150K (Angers)')\r\n",
        "print(\"Predict: \"+str(sc_y.inverse_transform(regressor.predict(sc_X.transform([[15]])))))"
      ],
      "execution_count": 511,
      "outputs": [
        {
          "output_type": "stream",
          "text": [
            "150K (Angers)\n",
            "Predict: [12.70672805]\n"
          ],
          "name": "stdout"
        }
      ]
    },
    {
      "cell_type": "code",
      "metadata": {
        "colab": {
          "base_uri": "https://localhost:8080/"
        },
        "id": "EUT1pi2SEznK",
        "outputId": "274f3e7e-7b9e-4a9c-d659-d18eb6d0b6c8"
      },
      "source": [
        "print('215K (Rennes)')\r\n",
        "print(\"Predict: \"+str(sc_y.inverse_transform(regressor.predict(sc_X.transform([[21]])))))"
      ],
      "execution_count": 512,
      "outputs": [
        {
          "output_type": "stream",
          "text": [
            "215K (Rennes)\n",
            "Predict: [20.49885932]\n"
          ],
          "name": "stdout"
        }
      ]
    },
    {
      "cell_type": "markdown",
      "metadata": {
        "id": "-kJ2nr9ZNNmy"
      },
      "source": [
        "## R2 Score"
      ]
    },
    {
      "cell_type": "code",
      "metadata": {
        "colab": {
          "base_uri": "https://localhost:8080/"
        },
        "id": "tqEAXiu4NPAQ",
        "outputId": "02f02e8d-becd-4a01-89b7-43631609c2d4"
      },
      "source": [
        "print(r2_score(sc_y.inverse_transform(y), sc_y.inverse_transform(regressor.predict(sc_X.transform(sc_X.inverse_transform(X))))))"
      ],
      "execution_count": 538,
      "outputs": [
        {
          "output_type": "stream",
          "text": [
            "0.6931820237472561\n"
          ],
          "name": "stdout"
        }
      ]
    },
    {
      "cell_type": "markdown",
      "metadata": {
        "id": "XNOaABwMI8Mz"
      },
      "source": [
        "# Polynomial Regression Model"
      ]
    },
    {
      "cell_type": "code",
      "metadata": {
        "colab": {
          "base_uri": "https://localhost:8080/"
        },
        "id": "3YuSACjzI98L",
        "outputId": "6f4fe336-013e-482a-aa6a-186bd071afd6"
      },
      "source": [
        "lin_reg = LinearRegression()\r\n",
        "lin_reg.fit(X, y)"
      ],
      "execution_count": 514,
      "outputs": [
        {
          "output_type": "execute_result",
          "data": {
            "text/plain": [
              "LinearRegression(copy_X=True, fit_intercept=True, n_jobs=None, normalize=False)"
            ]
          },
          "metadata": {
            "tags": []
          },
          "execution_count": 514
        }
      ]
    },
    {
      "cell_type": "code",
      "metadata": {
        "colab": {
          "base_uri": "https://localhost:8080/"
        },
        "id": "XyON4s7AJFAg",
        "outputId": "b0557fcb-537c-4876-8468-ca788b68889b"
      },
      "source": [
        "from sklearn.preprocessing import PolynomialFeatures\r\n",
        "poly_reg4 = PolynomialFeatures(degree=4)\r\n",
        "X_poly4 = poly_reg4.fit_transform(X)\r\n",
        "lin_reg4 = LinearRegression()\r\n",
        "lin_reg4.fit(X_poly4, y)"
      ],
      "execution_count": 515,
      "outputs": [
        {
          "output_type": "execute_result",
          "data": {
            "text/plain": [
              "LinearRegression(copy_X=True, fit_intercept=True, n_jobs=None, normalize=False)"
            ]
          },
          "metadata": {
            "tags": []
          },
          "execution_count": 515
        }
      ]
    },
    {
      "cell_type": "markdown",
      "metadata": {
        "id": "hEGy0ZUyNT3R"
      },
      "source": [
        "## Model plot"
      ]
    },
    {
      "cell_type": "code",
      "metadata": {
        "colab": {
          "base_uri": "https://localhost:8080/",
          "height": 295
        },
        "id": "Y4CzUmm5JaJS",
        "outputId": "685f3723-2f18-4155-b0b2-cdd1c6617cae"
      },
      "source": [
        "X_grid = np.arange(min(X), max(X), 0.1)\r\n",
        "X_grid = X_grid.reshape((len(X_grid), 1))\r\n",
        "plt.scatter(X, y, color = 'red')\r\n",
        "plt.plot(X_grid, lin_reg4.predict(poly_reg4.fit_transform(X_grid)), color = 'blue')\r\n",
        "plt.title('Polynomial Regression | degree=4')\r\n",
        "plt.xlabel('Population (10k)')\r\n",
        "plt.ylabel('Profit (10k)')\r\n",
        "plt.show()"
      ],
      "execution_count": 516,
      "outputs": [
        {
          "output_type": "display_data",
          "data": {
            "image/png": "[encoded data removed]",
            "text/plain": [
              "<Figure size 432x288 with 1 Axes>"
            ]
          },
          "metadata": {
            "tags": [],
            "needs_background": "light"
          }
        }
      ]
    },
    {
      "cell_type": "markdown",
      "metadata": {
        "id": "ZdG6VQLQJoaA"
      },
      "source": [
        "## Random Predictions"
      ]
    },
    {
      "cell_type": "code",
      "metadata": {
        "colab": {
          "base_uri": "https://localhost:8080/"
        },
        "id": "5ew6wyudJspe",
        "outputId": "9b9e2b0e-66b3-46a8-c8dc-7364d8831506"
      },
      "source": [
        "print('150K (Angers)')\r\n",
        "print(\"Predict lin: \"+str(lin_reg.predict([[15]])))\r\n",
        "print(\"Predict poly: \"+str(poly_reg4.fit_transform([[15]])))"
      ],
      "execution_count": 517,
      "outputs": [
        {
          "output_type": "stream",
          "text": [
            "150K (Angers)\n",
            "Predict lin: [[12.56809849]]\n",
            "Predict poly: [[1.0000e+00 1.5000e+01 2.2500e+02 3.3750e+03 5.0625e+04]]\n"
          ],
          "name": "stdout"
        }
      ]
    },
    {
      "cell_type": "code",
      "metadata": {
        "colab": {
          "base_uri": "https://localhost:8080/"
        },
        "id": "SEPEXvHIKCW8",
        "outputId": "16e9f622-54e3-48e0-c9f6-8e5473bb3e1c"
      },
      "source": [
        "print('215K (Rennes)')\r\n",
        "print(\"Predict lin: \"+str(lin_reg.predict([[21]])))\r\n",
        "print(\"Predict poly: \"+str(poly_reg4.fit_transform([[21]])))"
      ],
      "execution_count": 518,
      "outputs": [
        {
          "output_type": "stream",
          "text": [
            "215K (Rennes)\n",
            "Predict lin: [[17.59533788]]\n",
            "Predict poly: [[1.00000e+00 2.10000e+01 4.41000e+02 9.26100e+03 1.94481e+05]]\n"
          ],
          "name": "stdout"
        }
      ]
    },
    {
      "cell_type": "markdown",
      "metadata": {
        "id": "9ZVz2KQwNXsw"
      },
      "source": [
        "## R2 Score"
      ]
    },
    {
      "cell_type": "code",
      "metadata": {
        "colab": {
          "base_uri": "https://localhost:8080/"
        },
        "id": "GhI8ignyKUQT",
        "outputId": "7b1b9c9a-1aba-47cf-cf53-69f834ac0c69"
      },
      "source": [
        "print(r2_score(y, lin_reg.predict(X)))"
      ],
      "execution_count": 519,
      "outputs": [
        {
          "output_type": "stream",
          "text": [
            "0.7020315537841397\n"
          ],
          "name": "stdout"
        }
      ]
    },
    {
      "cell_type": "markdown",
      "metadata": {
        "id": "qfmGvQw-KjoU"
      },
      "source": [
        "# Decision Tree Regression"
      ]
    },
    {
      "cell_type": "code",
      "metadata": {
        "colab": {
          "base_uri": "https://localhost:8080/"
        },
        "id": "4PRtl6x5Kl4N",
        "outputId": "fe80539a-e6b9-49f4-87fc-d747fa32d229"
      },
      "source": [
        "from sklearn.tree import DecisionTreeRegressor\r\n",
        "regressor = DecisionTreeRegressor(random_state=0)\r\n",
        "regressor.fit(X, y)"
      ],
      "execution_count": 539,
      "outputs": [
        {
          "output_type": "execute_result",
          "data": {
            "text/plain": [
              "DecisionTreeRegressor(ccp_alpha=0.0, criterion='mse', max_depth=None,\n",
              "                      max_features=None, max_leaf_nodes=None,\n",
              "                      min_impurity_decrease=0.0, min_impurity_split=None,\n",
              "                      min_samples_leaf=1, min_samples_split=2,\n",
              "                      min_weight_fraction_leaf=0.0, presort='deprecated',\n",
              "                      random_state=0, splitter='best')"
            ]
          },
          "metadata": {
            "tags": []
          },
          "execution_count": 539
        }
      ]
    },
    {
      "cell_type": "markdown",
      "metadata": {
        "id": "s1AqT3fSNdk0"
      },
      "source": [
        "## Model Plot"
      ]
    },
    {
      "cell_type": "code",
      "metadata": {
        "colab": {
          "base_uri": "https://localhost:8080/",
          "height": 295
        },
        "id": "2BlnIGqUKwYo",
        "outputId": "18c6aa3c-5157-4171-d3a3-3ed451e466ca"
      },
      "source": [
        "X_grid = np.arange(min(X), max(X), 0.1)\r\n",
        "X_grid = X_grid.reshape(len(X_grid), 1);\r\n",
        "plt.scatter(X, y, color='red')\r\n",
        "plt.plot(X_grid, regressor.predict(X_grid), color='blue')\r\n",
        "plt.title('Decision Tree Model')\r\n",
        "plt.xlabel('Population (10k)')\r\n",
        "plt.ylabel('Profit (10k)')\r\n",
        "plt.show()"
      ],
      "execution_count": 540,
      "outputs": [
        {
          "output_type": "display_data",
          "data": {
            "image/png": "[encoded data removed]",
            "text/plain": [
              "<Figure size 432x288 with 1 Axes>"
            ]
          },
          "metadata": {
            "tags": [],
            "needs_background": "light"
          }
        }
      ]
    },
    {
      "cell_type": "markdown",
      "metadata": {
        "id": "4ar9KzPMNfKA"
      },
      "source": [
        "## R2 Score"
      ]
    },
    {
      "cell_type": "code",
      "metadata": {
        "colab": {
          "base_uri": "https://localhost:8080/"
        },
        "id": "L6yQaH-jK1zG",
        "outputId": "fca80dff-4d8e-4fef-f321-c7a8e180e318"
      },
      "source": [
        "print(r2_score(y, regressor.predict(X)))"
      ],
      "execution_count": 541,
      "outputs": [
        {
          "output_type": "stream",
          "text": [
            "1.0\n"
          ],
          "name": "stdout"
        }
      ]
    },
    {
      "cell_type": "markdown",
      "metadata": {
        "id": "b-QbIQJEK9x7"
      },
      "source": [
        "# Random Forest Regression"
      ]
    },
    {
      "cell_type": "code",
      "metadata": {
        "colab": {
          "base_uri": "https://localhost:8080/"
        },
        "id": "pfYKTGeXLBI1",
        "outputId": "1e984350-d286-4d2a-fddd-34f6ed60053f"
      },
      "source": [
        "from sklearn.ensemble import RandomForestRegressor\r\n",
        "regressor = RandomForestRegressor(n_estimators=10, random_state=0)\r\n",
        "regressor.fit(X, y)"
      ],
      "execution_count": 525,
      "outputs": [
        {
          "output_type": "stream",
          "text": [
            "/usr/local/lib/python3.6/dist-packages/ipykernel_launcher.py:3: DataConversionWarning: A column-vector y was passed when a 1d array was expected. Please change the shape of y to (n_samples,), for example using ravel().\n",
            "  This is separate from the ipykernel package so we can avoid doing imports until\n"
          ],
          "name": "stderr"
        },
        {
          "output_type": "execute_result",
          "data": {
            "text/plain": [
              "RandomForestRegressor(bootstrap=True, ccp_alpha=0.0, criterion='mse',\n",
              "                      max_depth=None, max_features='auto', max_leaf_nodes=None,\n",
              "                      max_samples=None, min_impurity_decrease=0.0,\n",
              "                      min_impurity_split=None, min_samples_leaf=1,\n",
              "                      min_samples_split=2, min_weight_fraction_leaf=0.0,\n",
              "                      n_estimators=10, n_jobs=None, oob_score=False,\n",
              "                      random_state=0, verbose=0, warm_start=False)"
            ]
          },
          "metadata": {
            "tags": []
          },
          "execution_count": 525
        }
      ]
    },
    {
      "cell_type": "markdown",
      "metadata": {
        "id": "Yr7i_-fKNlCQ"
      },
      "source": [
        "## Model Plot"
      ]
    },
    {
      "cell_type": "code",
      "metadata": {
        "colab": {
          "base_uri": "https://localhost:8080/",
          "height": 295
        },
        "id": "mO8pPvfYLK3j",
        "outputId": "76b067da-ebde-4149-fe7f-52abf3caf52b"
      },
      "source": [
        "X_grid = np.arange(min(X), max(X), 0.1)\r\n",
        "X_grid = X_grid.reshape(len(X_grid), 1);\r\n",
        "plt.scatter(X, y, color='red')\r\n",
        "plt.plot(X_grid, regressor.predict(X_grid), color='blue')\r\n",
        "plt.title('Random Forest | n_estimators=10')\r\n",
        "plt.xlabel('Population (10k)')\r\n",
        "plt.ylabel('Profit (10k)')\r\n",
        "plt.show()"
      ],
      "execution_count": 526,
      "outputs": [
        {
          "output_type": "display_data",
          "data": {
            "image/png": "[encoded data removed]",
            "text/plain": [
              "<Figure size 432x288 with 1 Axes>"
            ]
          },
          "metadata": {
            "tags": [],
            "needs_background": "light"
          }
        }
      ]
    },
    {
      "cell_type": "markdown",
      "metadata": {
        "id": "Pr1KNmoWNmn6"
      },
      "source": [
        "## R2 Score"
      ]
    },
    {
      "cell_type": "code",
      "metadata": {
        "colab": {
          "base_uri": "https://localhost:8080/"
        },
        "id": "aVaXeQmTLNpK",
        "outputId": "3f97b779-6ac7-4148-9564-a6cc7b0539ce"
      },
      "source": [
        "print(r2_score(y, regressor.predict(X)))"
      ],
      "execution_count": 528,
      "outputs": [
        {
          "output_type": "stream",
          "text": [
            "0.9302612028627444\n"
          ],
          "name": "stdout"
        }
      ]
    }
  ]
}