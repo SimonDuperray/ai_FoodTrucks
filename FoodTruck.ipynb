{
  "nbformat": 4,
  "nbformat_minor": 0,
  "metadata": {
    "colab": {
      "name": "FoodTruck.ipynb",
      "provenance": [],
      "collapsed_sections": []
    },
    "kernelspec": {
      "name": "python3",
      "display_name": "Python 3"
    }
  },
  "cells": [
    {
      "cell_type": "markdown",
      "metadata": {
        "id": "_CsUW1vsvjPt"
      },
      "source": [
        "<h1>Problem:</h1>\r\n",
        "\r\n",
        "Suppose you are the CEO of a Food Trucks franchise. You are considering different cities to open a new point of sale. The chain already has trucks in different cities and you have data for the city's profits and populations.\r\n",
        "You want to use this data to help you choose the city to open a new point of sale."
      ]
    },
    {
      "cell_type": "code",
      "metadata": {
        "id": "qjqyovkutyMl"
      },
      "source": [
        "import pandas as pd\r\n",
        "import numpy as np\r\n",
        "import matplotlib.pyplot as plt"
      ],
      "execution_count": 159,
      "outputs": []
    },
    {
      "cell_type": "code",
      "metadata": {
        "id": "KPl_IJaGt3r2"
      },
      "source": [
        "dataset = pd.read_csv('univariate_linear_regression_dataset.csv')\r\n",
        "X = dataset.iloc[:, 0].values\r\n",
        "y = dataset.iloc[:, -1].values"
      ],
      "execution_count": 160,
      "outputs": []
    },
    {
      "cell_type": "code",
      "metadata": {
        "colab": {
          "base_uri": "https://localhost:8080/",
          "height": 402
        },
        "id": "GYIQu7uvvaCI",
        "outputId": "44a7cc4c-7149-4d90-f771-c4b9cf3299c1"
      },
      "source": [
        "dataset"
      ],
      "execution_count": 161,
      "outputs": [
        {
          "output_type": "execute_result",
          "data": {
            "text/html": [
              "<div>\n",
              "<style scoped>\n",
              "    .dataframe tbody tr th:only-of-type {\n",
              "        vertical-align: middle;\n",
              "    }\n",
              "\n",
              "    .dataframe tbody tr th {\n",
              "        vertical-align: top;\n",
              "    }\n",
              "\n",
              "    .dataframe thead th {\n",
              "        text-align: right;\n",
              "    }\n",
              "</style>\n",
              "<table border=\"1\" class=\"dataframe\">\n",
              "  <thead>\n",
              "    <tr style=\"text-align: right;\">\n",
              "      <th></th>\n",
              "      <th>pop</th>\n",
              "      <th>profit</th>\n",
              "    </tr>\n",
              "  </thead>\n",
              "  <tbody>\n",
              "    <tr>\n",
              "      <th>0</th>\n",
              "      <td>6.1101</td>\n",
              "      <td>17.59200</td>\n",
              "    </tr>\n",
              "    <tr>\n",
              "      <th>1</th>\n",
              "      <td>5.5277</td>\n",
              "      <td>9.13020</td>\n",
              "    </tr>\n",
              "    <tr>\n",
              "      <th>2</th>\n",
              "      <td>8.5186</td>\n",
              "      <td>13.66200</td>\n",
              "    </tr>\n",
              "    <tr>\n",
              "      <th>3</th>\n",
              "      <td>7.0032</td>\n",
              "      <td>11.85400</td>\n",
              "    </tr>\n",
              "    <tr>\n",
              "      <th>4</th>\n",
              "      <td>5.8598</td>\n",
              "      <td>6.82330</td>\n",
              "    </tr>\n",
              "    <tr>\n",
              "      <th>...</th>\n",
              "      <td>...</td>\n",
              "      <td>...</td>\n",
              "    </tr>\n",
              "    <tr>\n",
              "      <th>92</th>\n",
              "      <td>5.8707</td>\n",
              "      <td>7.20290</td>\n",
              "    </tr>\n",
              "    <tr>\n",
              "      <th>93</th>\n",
              "      <td>5.3054</td>\n",
              "      <td>1.98690</td>\n",
              "    </tr>\n",
              "    <tr>\n",
              "      <th>94</th>\n",
              "      <td>8.2934</td>\n",
              "      <td>0.14454</td>\n",
              "    </tr>\n",
              "    <tr>\n",
              "      <th>95</th>\n",
              "      <td>13.3940</td>\n",
              "      <td>9.05510</td>\n",
              "    </tr>\n",
              "    <tr>\n",
              "      <th>96</th>\n",
              "      <td>5.4369</td>\n",
              "      <td>0.61705</td>\n",
              "    </tr>\n",
              "  </tbody>\n",
              "</table>\n",
              "<p>97 rows × 2 columns</p>\n",
              "</div>"
            ],
            "text/plain": [
              "        pop    profit\n",
              "0    6.1101  17.59200\n",
              "1    5.5277   9.13020\n",
              "2    8.5186  13.66200\n",
              "3    7.0032  11.85400\n",
              "4    5.8598   6.82330\n",
              "..      ...       ...\n",
              "92   5.8707   7.20290\n",
              "93   5.3054   1.98690\n",
              "94   8.2934   0.14454\n",
              "95  13.3940   9.05510\n",
              "96   5.4369   0.61705\n",
              "\n",
              "[97 rows x 2 columns]"
            ]
          },
          "metadata": {
            "tags": []
          },
          "execution_count": 161
        }
      ]
    },
    {
      "cell_type": "code",
      "metadata": {
        "colab": {
          "base_uri": "https://localhost:8080/",
          "height": 295
        },
        "id": "XIWNAGg8uqA2",
        "outputId": "451f50d4-bb40-4fcc-a82c-f6a3589d958a"
      },
      "source": [
        "axes = plt.axes()\r\n",
        "axes.grid()\r\n",
        "plt.title(\"Representation\")\r\n",
        "plt.scatter(X, y)\r\n",
        "plt.xlabel(\"Population (10k)\")\r\n",
        "plt.ylabel(\"Profit (10k)\")\r\n",
        "plt.show()"
      ],
      "execution_count": 162,
      "outputs": [
        {
          "output_type": "display_data",
          "data": {
            "image/png": "[encoded data removed]",
            "text/plain": [
              "<Figure size 432x288 with 1 Axes>"
            ]
          },
          "metadata": {
            "tags": [],
            "needs_background": "light"
          }
        }
      ]
    },
    {
      "cell_type": "markdown",
      "metadata": {
        "id": "agZd77-LyoRx"
      },
      "source": [
        "<h2>Scipy Regression</h2>"
      ]
    },
    {
      "cell_type": "code",
      "metadata": {
        "id": "EsqN6W_jv8H9"
      },
      "source": [
        "from scipy import stats\r\n",
        "slope, intercept, r_value, p_value, std_err = stats.linregress(X, y)"
      ],
      "execution_count": 163,
      "outputs": []
    },
    {
      "cell_type": "code",
      "metadata": {
        "id": "4t9I0jbSwS2d"
      },
      "source": [
        "def predict(X):\r\n",
        "  return slope * X + intercept"
      ],
      "execution_count": 164,
      "outputs": []
    },
    {
      "cell_type": "code",
      "metadata": {
        "colab": {
          "base_uri": "https://localhost:8080/",
          "height": 295
        },
        "id": "ujleaZLawnLR",
        "outputId": "347dea74-d660-43d7-dac1-02a2d1ff0b39"
      },
      "source": [
        "axes = plt.axes()\r\n",
        "axes.grid()\r\n",
        "plt.title(\"Predictions\")\r\n",
        "plt.plot(X, predict(X), c='r')\r\n",
        "plt.scatter(X, y, c='b')\r\n",
        "plt.xlabel('Population (10k)')\r\n",
        "plt.ylabel('Profit (10k)')\r\n",
        "plt.xlim((4.5, 22.5))\r\n",
        "plt.ylim((-5, 25))\r\n",
        "plt.show()"
      ],
      "execution_count": 165,
      "outputs": [
        {
          "output_type": "display_data",
          "data": {
            "image/png": "[encoded data removed]",
            "text/plain": [
              "<Figure size 432x288 with 1 Axes>"
            ]
          },
          "metadata": {
            "tags": [],
            "needs_background": "light"
          }
        }
      ]
    },
    {
      "cell_type": "markdown",
      "metadata": {
        "id": "ll6HSr0jyqx_"
      },
      "source": [
        "<h2>Scikit Learn - Regression</h2>"
      ]
    },
    {
      "cell_type": "code",
      "metadata": {
        "id": "eY1KIoH4ytye"
      },
      "source": [
        "from sklearn.model_selection import train_test_split\r\n",
        "X = X.reshape(X.shape[0], 1)\r\n",
        "y = y.reshape(y.shape[0], 1)\r\n",
        "X_train, X_test, y_train, y_test = train_test_split(X, y, test_size=0.2, random_state=0)"
      ],
      "execution_count": 169,
      "outputs": []
    },
    {
      "cell_type": "code",
      "metadata": {
        "colab": {
          "base_uri": "https://localhost:8080/"
        },
        "id": "O-F5wI0i2uRG",
        "outputId": "16046c73-46d8-497c-84ba-44d9fab1d723"
      },
      "source": [
        "from sklearn.linear_model import LinearRegression\r\n",
        "regressor = LinearRegression()\r\n",
        "regressor.fit(X_train, y_train)"
      ],
      "execution_count": 170,
      "outputs": [
        {
          "output_type": "execute_result",
          "data": {
            "text/plain": [
              "LinearRegression(copy_X=True, fit_intercept=True, n_jobs=None, normalize=False)"
            ]
          },
          "metadata": {
            "tags": []
          },
          "execution_count": 170
        }
      ]
    },
    {
      "cell_type": "code",
      "metadata": {
        "id": "nf6U3rGK22BU"
      },
      "source": [
        "y_pred = regressor.predict(X_test)"
      ],
      "execution_count": 171,
      "outputs": []
    },
    {
      "cell_type": "code",
      "metadata": {
        "colab": {
          "base_uri": "https://localhost:8080/",
          "height": 295
        },
        "id": "aO1q_AgSzm_U",
        "outputId": "f5deff3e-c627-4a93-e330-c8bb0413fd67"
      },
      "source": [
        "plt.scatter(X_train, y_train, color='red')\r\n",
        "plt.plot(X_train, regressor.predict(X_train), color='blue')\r\n",
        "plt.title(\"SKL Regression - Train\")\r\n",
        "plt.xlabel(\"Population (10k)\")\r\n",
        "plt.ylabel('Profit (10k)')\r\n",
        "plt.show()"
      ],
      "execution_count": 172,
      "outputs": [
        {
          "output_type": "display_data",
          "data": {
            "image/png": "[encoded data removed]",
            "text/plain": [
              "<Figure size 432x288 with 1 Axes>"
            ]
          },
          "metadata": {
            "tags": [],
            "needs_background": "light"
          }
        }
      ]
    },
    {
      "cell_type": "code",
      "metadata": {
        "colab": {
          "base_uri": "https://localhost:8080/",
          "height": 295
        },
        "id": "m_49fJBr3Poz",
        "outputId": "a6c819aa-6198-43fa-e5c5-e0b51cb00a1b"
      },
      "source": [
        "plt.scatter(X_test, y_test, color='red')\r\n",
        "plt.plot(X_test, y_pred, color='blue')\r\n",
        "plt.title(\"SKL Regression - Test set\")\r\n",
        "plt.xlabel(\"Population (10k)\")\r\n",
        "plt.ylabel('Profit (10k)')\r\n",
        "plt.show()"
      ],
      "execution_count": 173,
      "outputs": [
        {
          "output_type": "display_data",
          "data": {
            "image/png": "[encoded data removed]",
            "text/plain": [
              "<Figure size 432x288 with 1 Axes>"
            ]
          },
          "metadata": {
            "tags": [],
            "needs_background": "light"
          }
        }
      ]
    },
    {
      "cell_type": "markdown",
      "metadata": {
        "id": "VWFV3ptX0mrr"
      },
      "source": [
        "<h2>Compare Scipy and SKLearn</h2>"
      ]
    },
    {
      "cell_type": "markdown",
      "metadata": {
        "id": "j9J14SOb5Jzw"
      },
      "source": [
        "<h3>Plots</h3>"
      ]
    },
    {
      "cell_type": "code",
      "metadata": {
        "colab": {
          "base_uri": "https://localhost:8080/",
          "height": 282
        },
        "id": "U3pHTLe30mKF",
        "outputId": "877d1135-8c19-48ab-ef1d-1d019d483128"
      },
      "source": [
        "plt.scatter(X_test, y_pred, c='b')\r\n",
        "plt.scatter(X_test, predict(X_test), c='r')"
      ],
      "execution_count": 176,
      "outputs": [
        {
          "output_type": "execute_result",
          "data": {
            "text/plain": [
              "<matplotlib.collections.PathCollection at 0x7f6ffa6e0dd8>"
            ]
          },
          "metadata": {
            "tags": []
          },
          "execution_count": 176
        },
        {
          "output_type": "display_data",
          "data": {
            "image/png": "[encoded data removed]",
            "text/plain": [
              "<Figure size 432x288 with 1 Axes>"
            ]
          },
          "metadata": {
            "tags": [],
            "needs_background": "light"
          }
        }
      ]
    },
    {
      "cell_type": "markdown",
      "metadata": {
        "id": "2wGtVkzx5MV6"
      },
      "source": [
        "<h3>R2 Scores</h3>"
      ]
    },
    {
      "cell_type": "code",
      "metadata": {
        "colab": {
          "base_uri": "https://localhost:8080/"
        },
        "id": "G6wA04651DjO",
        "outputId": "9903bd8e-f03c-42e4-a968-023ad3c0ccf6"
      },
      "source": [
        "from sklearn.metrics import r2_score\r\n",
        "print(\"Scipy: \"+str(r_value))\r\n",
        "print(\"SKLearn: \"+str(r2_score(y_train, regressor.predict(X_train))))"
      ],
      "execution_count": 177,
      "outputs": [
        {
          "output_type": "stream",
          "text": [
            "Scipy: 0.8378732325263409\n",
            "SKLearn: 0.7221737943890659\n"
          ],
          "name": "stdout"
        }
      ]
    },
    {
      "cell_type": "markdown",
      "metadata": {
        "id": "lG-53Xq15OKu"
      },
      "source": [
        "<h3>Random Predictions</h3>"
      ]
    },
    {
      "cell_type": "code",
      "metadata": {
        "colab": {
          "base_uri": "https://localhost:8080/"
        },
        "id": "wkg4Y_Yf5Q7a",
        "outputId": "b943cefa-f812-473a-9e08-02ed7b245349"
      },
      "source": [
        "angers = np.array([15.3])\r\n",
        "angers = angers.reshape(angers.shape[0], 1)\r\n",
        "print(\"Angers\")\r\n",
        "print(\"Scipy: [\"+str(predict(15.3))+\"]\")\r\n",
        "print(\"SkLearn: \"+str(regressor.predict(angers).reshape(1,)))\r\n",
        "print(\"Delta = \"+str(np.abs(predict(15.3)-regressor.predict(angers).reshape(1,))))"
      ],
      "execution_count": 185,
      "outputs": [
        {
          "output_type": "stream",
          "text": [
            "Angers\n",
            "Scipy: [14.357633877788937]\n",
            "SkLearn: [14.12309067]\n",
            "Delta = [0.23454321]\n"
          ],
          "name": "stdout"
        }
      ]
    },
    {
      "cell_type": "code",
      "metadata": {
        "colab": {
          "base_uri": "https://localhost:8080/"
        },
        "id": "oNFM2VIQ6IYS",
        "outputId": "e9bfec3e-a669-4d5c-ef38-32366c74c10f"
      },
      "source": [
        "paris = np.array([200.15])\r\n",
        "paris = paris.reshape(paris.shape[0], 1)\r\n",
        "print(\"Paris\")\r\n",
        "print(\"Scipy: [\"+str(predict(200.15))+\"]\")\r\n",
        "print(\"SkLearn: \"+str(regressor.predict(paris).reshape(1,)))\r\n",
        "print(\"Delta = \"+str(np.abs(predict(200.15)-regressor.predict(paris).reshape(1,))))"
      ],
      "execution_count": 190,
      "outputs": [
        {
          "output_type": "stream",
          "text": [
            "Paris\n",
            "Scipy: [234.88990300623541]\n",
            "SkLearn: [230.38999145]\n",
            "Delta = [4.49991156]\n"
          ],
          "name": "stdout"
        }
      ]
    },
    {
      "cell_type": "code",
      "metadata": {
        "colab": {
          "base_uri": "https://localhost:8080/"
        },
        "id": "-yx-b0iX6p4I",
        "outputId": "f2a442d6-cba3-4cad-eabd-7d0f62f564b6"
      },
      "source": [
        "marseille = np.array([86.3])\r\n",
        "marseille = marseille.reshape(marseille.shape[0], 1)\r\n",
        "print(\"Paris\")\r\n",
        "print(\"Scipy: [\"+str(predict(86.3))+\"]\")\r\n",
        "print(\"SkLearn: \"+str(regressor.predict(marseille).reshape(1,)))\r\n",
        "print(\"Delta = \"+str(np.abs(predict(86.3)-regressor.predict(marseille).reshape(1,))))"
      ],
      "execution_count": 191,
      "outputs": [
        {
          "output_type": "stream",
          "text": [
            "Paris\n",
            "Scipy: [99.06302261525012]\n",
            "SkLearn: [97.19017184]\n",
            "Delta = [1.87285077]\n"
          ],
          "name": "stdout"
        }
      ]
    }
  ]
}